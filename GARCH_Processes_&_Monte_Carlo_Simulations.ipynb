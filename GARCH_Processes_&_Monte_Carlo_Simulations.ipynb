{
  "nbformat": 4,
  "nbformat_minor": 0,
  "metadata": {
    "colab": {
      "name": "GARCH Processes & Monte-Carlo Simulations.ipynb",
      "provenance": [],
      "collapsed_sections": [],
      "machine_shape": "hm",
      "include_colab_link": true
    },
    "kernelspec": {
      "name": "python3",
      "display_name": "Python 3"
    },
    "accelerator": "GPU"
  },
  "cells": [
    {
      "cell_type": "markdown",
      "metadata": {
        "id": "view-in-github",
        "colab_type": "text"
      },
      "source": [
        "<a href=\"https://colab.research.google.com/github/saritmaitra/GARCH-Processes-Monte-Carlo-Simulations/blob/main/GARCH_Processes_%26_Monte_Carlo_Simulations.ipynb\" target=\"_parent\"><img src=\"https://colab.research.google.com/assets/colab-badge.svg\" alt=\"Open In Colab\"/></a>"
      ]
    },
    {
      "cell_type": "code",
      "metadata": {
        "id": "bJoQ9-d9zdL0"
      },
      "source": [
        "import numpy as np\n",
        "import pandas as pd \n",
        "import matplotlib.pyplot as plt \n",
        "import seaborn as sns\n",
        "from pylab import rcParams\n",
        "%matplotlib inline"
      ],
      "execution_count": 1,
      "outputs": []
    },
    {
      "cell_type": "code",
      "metadata": {
        "id": "McVxzG3yzrpP",
        "outputId": "d8a9e923-7ce3-4708-c509-0e58afa099ba",
        "colab": {
          "resources": {
            "http://localhost:8080/nbextensions/google.colab/files.js": {
              "data": "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",
              "ok": true,
              "headers": [
                [
                  "content-type",
                  "application/javascript"
                ]
              ],
              "status": 200,
              "status_text": ""
            }
          },
          "base_uri": "https://localhost:8080/",
          "height": 73
        }
      },
      "source": [
        "from google.colab import files\n",
        "uploaded = files.upload()"
      ],
      "execution_count": 2,
      "outputs": [
        {
          "output_type": "display_data",
          "data": {
            "text/html": [
              "\n",
              "     <input type=\"file\" id=\"files-0cb6027c-83d9-4869-903f-8d1a2724bc2c\" name=\"files[]\" multiple disabled\n",
              "        style=\"border:none\" />\n",
              "     <output id=\"result-0cb6027c-83d9-4869-903f-8d1a2724bc2c\">\n",
              "      Upload widget is only available when the cell has been executed in the\n",
              "      current browser session. Please rerun this cell to enable.\n",
              "      </output>\n",
              "      <script src=\"/nbextensions/google.colab/files.js\"></script> "
            ],
            "text/plain": [
              "<IPython.core.display.HTML object>"
            ]
          },
          "metadata": {
            "tags": []
          }
        },
        {
          "output_type": "stream",
          "text": [
            "Saving Crude_Oil.csv to Crude_Oil.csv\n"
          ],
          "name": "stdout"
        }
      ]
    },
    {
      "cell_type": "code",
      "metadata": {
        "id": "6R1yZKtx0GIm",
        "outputId": "b2bf128c-e971-4b7d-a927-167e6e5370fb",
        "colab": {
          "base_uri": "https://localhost:8080/",
          "height": 195
        }
      },
      "source": [
        "df = pd.read_csv('Crude_Oil.csv')\n",
        "df.head()"
      ],
      "execution_count": 3,
      "outputs": [
        {
          "output_type": "execute_result",
          "data": {
            "text/html": [
              "<div>\n",
              "<style scoped>\n",
              "    .dataframe tbody tr th:only-of-type {\n",
              "        vertical-align: middle;\n",
              "    }\n",
              "\n",
              "    .dataframe tbody tr th {\n",
              "        vertical-align: top;\n",
              "    }\n",
              "\n",
              "    .dataframe thead th {\n",
              "        text-align: right;\n",
              "    }\n",
              "</style>\n",
              "<table border=\"1\" class=\"dataframe\">\n",
              "  <thead>\n",
              "    <tr style=\"text-align: right;\">\n",
              "      <th></th>\n",
              "      <th>Date</th>\n",
              "      <th>Price</th>\n",
              "      <th>Open</th>\n",
              "      <th>High</th>\n",
              "      <th>Low</th>\n",
              "      <th>Vol.</th>\n",
              "      <th>Change %</th>\n",
              "    </tr>\n",
              "  </thead>\n",
              "  <tbody>\n",
              "    <tr>\n",
              "      <th>0</th>\n",
              "      <td>4-Jan-00</td>\n",
              "      <td>25.55</td>\n",
              "      <td>25.20</td>\n",
              "      <td>25.69</td>\n",
              "      <td>24.71</td>\n",
              "      <td>74.79K</td>\n",
              "      <td>-0.20%</td>\n",
              "    </tr>\n",
              "    <tr>\n",
              "      <th>1</th>\n",
              "      <td>5-Jan-00</td>\n",
              "      <td>24.91</td>\n",
              "      <td>25.50</td>\n",
              "      <td>25.61</td>\n",
              "      <td>24.87</td>\n",
              "      <td>70.94K</td>\n",
              "      <td>-2.50%</td>\n",
              "    </tr>\n",
              "    <tr>\n",
              "      <th>2</th>\n",
              "      <td>6-Jan-00</td>\n",
              "      <td>24.78</td>\n",
              "      <td>24.80</td>\n",
              "      <td>25.34</td>\n",
              "      <td>24.51</td>\n",
              "      <td>85.25K</td>\n",
              "      <td>-0.52%</td>\n",
              "    </tr>\n",
              "    <tr>\n",
              "      <th>3</th>\n",
              "      <td>7-Jan-00</td>\n",
              "      <td>24.22</td>\n",
              "      <td>24.65</td>\n",
              "      <td>25.00</td>\n",
              "      <td>24.15</td>\n",
              "      <td>91.83K</td>\n",
              "      <td>-2.26%</td>\n",
              "    </tr>\n",
              "    <tr>\n",
              "      <th>4</th>\n",
              "      <td>10-Jan-00</td>\n",
              "      <td>24.67</td>\n",
              "      <td>24.22</td>\n",
              "      <td>24.75</td>\n",
              "      <td>24.02</td>\n",
              "      <td>68.90K</td>\n",
              "      <td>1.86%</td>\n",
              "    </tr>\n",
              "  </tbody>\n",
              "</table>\n",
              "</div>"
            ],
            "text/plain": [
              "        Date  Price   Open   High    Low    Vol. Change %\n",
              "0   4-Jan-00  25.55  25.20  25.69  24.71  74.79K   -0.20%\n",
              "1   5-Jan-00  24.91  25.50  25.61  24.87  70.94K   -2.50%\n",
              "2   6-Jan-00  24.78  24.80  25.34  24.51  85.25K   -0.52%\n",
              "3   7-Jan-00  24.22  24.65  25.00  24.15  91.83K   -2.26%\n",
              "4  10-Jan-00  24.67  24.22  24.75  24.02  68.90K    1.86%"
            ]
          },
          "metadata": {
            "tags": []
          },
          "execution_count": 3
        }
      ]
    },
    {
      "cell_type": "markdown",
      "metadata": {
        "id": "Xz878vjG1Qdc"
      },
      "source": [
        "## Data Analysis\n",
        "In this section, we will look at the data from four perspectives:\n",
        "\n",
        "- Summary Statistics.\n",
        "- Line Plot.\n",
        "- Density Plots.\n"
      ]
    },
    {
      "cell_type": "code",
      "metadata": {
        "id": "ilVwr-Ag0Tz0",
        "outputId": "b873fae9-4def-431c-a445-6138d3f2be68",
        "colab": {
          "base_uri": "https://localhost:8080/"
        }
      },
      "source": [
        "df.info()"
      ],
      "execution_count": 4,
      "outputs": [
        {
          "output_type": "stream",
          "text": [
            "<class 'pandas.core.frame.DataFrame'>\n",
            "RangeIndex: 4940 entries, 0 to 4939\n",
            "Data columns (total 7 columns):\n",
            " #   Column    Non-Null Count  Dtype  \n",
            "---  ------    --------------  -----  \n",
            " 0   Date      4940 non-null   object \n",
            " 1   Price     4940 non-null   float64\n",
            " 2   Open      4940 non-null   float64\n",
            " 3   High      4940 non-null   float64\n",
            " 4   Low       4940 non-null   float64\n",
            " 5   Vol.      4940 non-null   object \n",
            " 6   Change %  4940 non-null   object \n",
            "dtypes: float64(4), object(3)\n",
            "memory usage: 270.3+ KB\n"
          ],
          "name": "stdout"
        }
      ]
    },
    {
      "cell_type": "code",
      "metadata": {
        "id": "fLiEcS7uvCDj",
        "outputId": "371ced04-bc5b-49de-a2d2-52b6c460f5a2",
        "colab": {
          "base_uri": "https://localhost:8080/"
        }
      },
      "source": [
        "df.dtypes"
      ],
      "execution_count": 5,
      "outputs": [
        {
          "output_type": "execute_result",
          "data": {
            "text/plain": [
              "Date         object\n",
              "Price       float64\n",
              "Open        float64\n",
              "High        float64\n",
              "Low         float64\n",
              "Vol.         object\n",
              "Change %     object\n",
              "dtype: object"
            ]
          },
          "metadata": {
            "tags": []
          },
          "execution_count": 5
        }
      ]
    },
    {
      "cell_type": "markdown",
      "metadata": {
        "id": "g-QG4UlM1Hh-"
      },
      "source": [
        "## Summary statistics\n",
        "Some observations from these statistics include:\n",
        "\n",
        "The number of observations (count) matches our expectation, meaning we are handling the data correctly.\n",
        "The mean is about 62, which we might consider our level in this series.\n",
        "The standard deviation (average spread from the mean) is relatively low (26).\n",
        "The percentiles along with the standard deviation do suggest a large spread to the data."
      ]
    },
    {
      "cell_type": "code",
      "metadata": {
        "id": "89oMMavF0ajb",
        "outputId": "896d269f-73ac-4a12-8ce1-be105df251b2",
        "colab": {
          "base_uri": "https://localhost:8080/",
          "height": 284
        }
      },
      "source": [
        "df.describe()"
      ],
      "execution_count": 6,
      "outputs": [
        {
          "output_type": "execute_result",
          "data": {
            "text/html": [
              "<div>\n",
              "<style scoped>\n",
              "    .dataframe tbody tr th:only-of-type {\n",
              "        vertical-align: middle;\n",
              "    }\n",
              "\n",
              "    .dataframe tbody tr th {\n",
              "        vertical-align: top;\n",
              "    }\n",
              "\n",
              "    .dataframe thead th {\n",
              "        text-align: right;\n",
              "    }\n",
              "</style>\n",
              "<table border=\"1\" class=\"dataframe\">\n",
              "  <thead>\n",
              "    <tr style=\"text-align: right;\">\n",
              "      <th></th>\n",
              "      <th>Price</th>\n",
              "      <th>Open</th>\n",
              "      <th>High</th>\n",
              "      <th>Low</th>\n",
              "    </tr>\n",
              "  </thead>\n",
              "  <tbody>\n",
              "    <tr>\n",
              "      <th>count</th>\n",
              "      <td>4940.000000</td>\n",
              "      <td>4940.000000</td>\n",
              "      <td>4940.000000</td>\n",
              "      <td>4940.000000</td>\n",
              "    </tr>\n",
              "    <tr>\n",
              "      <th>mean</th>\n",
              "      <td>62.081427</td>\n",
              "      <td>62.079739</td>\n",
              "      <td>62.978844</td>\n",
              "      <td>61.118419</td>\n",
              "    </tr>\n",
              "    <tr>\n",
              "      <th>std</th>\n",
              "      <td>26.486885</td>\n",
              "      <td>26.489889</td>\n",
              "      <td>26.741406</td>\n",
              "      <td>26.189768</td>\n",
              "    </tr>\n",
              "    <tr>\n",
              "      <th>min</th>\n",
              "      <td>17.450000</td>\n",
              "      <td>17.300000</td>\n",
              "      <td>18.250000</td>\n",
              "      <td>16.700000</td>\n",
              "    </tr>\n",
              "    <tr>\n",
              "      <th>25%</th>\n",
              "      <td>40.060000</td>\n",
              "      <td>40.202500</td>\n",
              "      <td>41.192500</td>\n",
              "      <td>39.380000</td>\n",
              "    </tr>\n",
              "    <tr>\n",
              "      <th>50%</th>\n",
              "      <td>59.360000</td>\n",
              "      <td>59.395000</td>\n",
              "      <td>60.085000</td>\n",
              "      <td>58.410000</td>\n",
              "    </tr>\n",
              "    <tr>\n",
              "      <th>75%</th>\n",
              "      <td>83.760000</td>\n",
              "      <td>83.752500</td>\n",
              "      <td>84.852500</td>\n",
              "      <td>82.262500</td>\n",
              "    </tr>\n",
              "    <tr>\n",
              "      <th>max</th>\n",
              "      <td>145.290000</td>\n",
              "      <td>145.190000</td>\n",
              "      <td>147.270000</td>\n",
              "      <td>143.220000</td>\n",
              "    </tr>\n",
              "  </tbody>\n",
              "</table>\n",
              "</div>"
            ],
            "text/plain": [
              "             Price         Open         High          Low\n",
              "count  4940.000000  4940.000000  4940.000000  4940.000000\n",
              "mean     62.081427    62.079739    62.978844    61.118419\n",
              "std      26.486885    26.489889    26.741406    26.189768\n",
              "min      17.450000    17.300000    18.250000    16.700000\n",
              "25%      40.060000    40.202500    41.192500    39.380000\n",
              "50%      59.360000    59.395000    60.085000    58.410000\n",
              "75%      83.760000    83.752500    84.852500    82.262500\n",
              "max     145.290000   145.190000   147.270000   143.220000"
            ]
          },
          "metadata": {
            "tags": []
          },
          "execution_count": 6
        }
      ]
    },
    {
      "cell_type": "markdown",
      "metadata": {
        "id": "CyaiLie-1BfL"
      },
      "source": [
        "The spread in this series will likely make highly accurate predictions difficult if it is caused by random fluctuation (e.g. not systematic)."
      ]
    },
    {
      "cell_type": "code",
      "metadata": {
        "id": "VIpyMR070jQl",
        "outputId": "eee0df25-7236-470d-816b-0ef48280a9a6",
        "colab": {
          "base_uri": "https://localhost:8080/",
          "height": 397
        }
      },
      "source": [
        "import seaborn as sns\n",
        "plt.figure(figsize=(10,6))\n",
        "plt.style.use('fivethirtyeight')\n",
        "\n",
        "# Visualization\n",
        "\n",
        "df['Price'].plot(figsize=(10,6), color=\"green\")\n",
        "plt.legend(loc=4)\n",
        "plt.xlabel('Date')\n",
        "plt.ylabel('Crude Oil Price ($/Barrel)')\n",
        "plt.show()"
      ],
      "execution_count": 7,
      "outputs": [
        {
          "output_type": "display_data",
          "data": {
            "image/png": "[encoded data removed]",
            "text/plain": [
              "<Figure size 720x432 with 1 Axes>"
            ]
          },
          "metadata": {
            "tags": [],
            "needs_background": "light"
          }
        }
      ]
    },
    {
      "cell_type": "markdown",
      "metadata": {
        "id": "hs9CfkH_0vLY"
      },
      "source": [
        "In the past decades, the oil price has displayed large fluctuation which is in an unstable state, particularly around the year 2008 when U.S. financial crisis hits making the oil price increase to its highest point in history. With multiple cliff-like increases and declines, the oil price remained at a relative low level.\n",
        "\n",
        "The mean of daily oil returns is substantially around the zerolevel horizonwith apparent volatility clustering, indicating the presence of heteroscedasticity (Daily Return price). Both positive and negative returns with large amplitude fluctuation increase the difficulty of risk investment and management.\n",
        "\n",
        "The calculation of the daily % change is based on the following formula: \n",
        "rt= pt/pt−1−1, where p is the price, t is the time (a day in this case) and r is the return.\n",
        "\n",
        "---\n",
        "\n"
      ]
    },
    {
      "cell_type": "code",
      "metadata": {
        "id": "717pBhmdRAUc",
        "outputId": "66b9e968-8985-40a3-eb7a-da49bef5c510",
        "colab": {
          "base_uri": "https://localhost:8080/",
          "height": 305
        }
      },
      "source": [
        "from pandas.plotting import scatter_matrix\n",
        "scatter_matrix(df, alpha=0.2)\n",
        "plt.show()"
      ],
      "execution_count": 8,
      "outputs": [
        {
          "output_type": "display_data",
          "data": {
            "image/png": "[encoded data removed]",
            "text/plain": [
              "<Figure size 432x288 with 16 Axes>"
            ]
          },
          "metadata": {
            "tags": []
          }
        }
      ]
    },
    {
      "cell_type": "code",
      "metadata": {
        "id": "B88u9ak20pzd",
        "outputId": "22bf5df0-3190-45a6-c3ad-68ce0422ecaa",
        "colab": {
          "base_uri": "https://localhost:8080/"
        }
      },
      "source": [
        "df['Returns'] = 100* df.Price.pct_change(1).fillna(0)  # 1 is for lokback period\n",
        "df.Returns.head()"
      ],
      "execution_count": 9,
      "outputs": [
        {
          "output_type": "execute_result",
          "data": {
            "text/plain": [
              "0    0.000000\n",
              "1   -2.504892\n",
              "2   -0.521879\n",
              "3   -2.259887\n",
              "4    1.857969\n",
              "Name: Returns, dtype: float64"
            ]
          },
          "metadata": {
            "tags": []
          },
          "execution_count": 9
        }
      ]
    },
    {
      "cell_type": "code",
      "metadata": {
        "id": "2ORgrXmI04mw",
        "outputId": "cfdcb66e-4644-472f-c875-5a14e157c3e3",
        "colab": {
          "base_uri": "https://localhost:8080/"
        }
      },
      "source": [
        "# Log returns - First the logarithm of the prices is taken \n",
        "df['returns'] = np.log(df.Price).diff(1).fillna(0)\n",
        "df.returns.head()"
      ],
      "execution_count": 10,
      "outputs": [
        {
          "output_type": "execute_result",
          "data": {
            "text/plain": [
              "0    0.000000\n",
              "1   -0.025368\n",
              "2   -0.005232\n",
              "3   -0.022858\n",
              "4    0.018409\n",
              "Name: returns, dtype: float64"
            ]
          },
          "metadata": {
            "tags": []
          },
          "execution_count": 10
        }
      ]
    },
    {
      "cell_type": "code",
      "metadata": {
        "id": "MBPi98bw-uMv",
        "outputId": "98c145a9-b86b-45ae-8554-0e48e7cbf6f8",
        "colab": {
          "base_uri": "https://localhost:8080/",
          "height": 303
        }
      },
      "source": [
        "# Draw Plot\n",
        "\n",
        "plt.boxplot(df.Price)\n",
        "plt.title('Daily Crude Oil Price')\n",
        "plt.show()"
      ],
      "execution_count": 11,
      "outputs": [
        {
          "output_type": "display_data",
          "data": {
            "image/png": "[encoded data removed]",
            "text/plain": [
              "<Figure size 432x288 with 1 Axes>"
            ]
          },
          "metadata": {
            "tags": []
          }
        }
      ]
    },
    {
      "cell_type": "code",
      "metadata": {
        "id": "nnBEU-wu1cTz"
      },
      "source": [
        "#df.log_returns.plot(figsize=(10,6),legend=True,linestyle='--',marker='o')\n",
        "#plt.ylabel('Daily return (%)')\n",
        "#plt.show()"
      ],
      "execution_count": 12,
      "outputs": []
    },
    {
      "cell_type": "code",
      "metadata": {
        "id": "BRisJDQE17rt",
        "outputId": "af736947-a80a-4a3c-f93b-1dfa915aa706",
        "colab": {
          "base_uri": "https://localhost:8080/",
          "height": 398
        }
      },
      "source": [
        "df.returns.plot(figsize=(10,6),legend=True,linestyle='--',marker='o')\n",
        "plt.ylabel('Daily return (%)')\n",
        "plt.show()"
      ],
      "execution_count": 13,
      "outputs": [
        {
          "output_type": "display_data",
          "data": {
            "image/png": "[encoded data removed]",
            "text/plain": [
              "<Figure size 720x432 with 1 Axes>"
            ]
          },
          "metadata": {
            "tags": []
          }
        }
      ]
    },
    {
      "cell_type": "code",
      "metadata": {
        "id": "vDr7Pd5_Su_j",
        "outputId": "74890160-526d-436d-ef52-0e10425dbfdf",
        "colab": {
          "base_uri": "https://localhost:8080/",
          "height": 309
        }
      },
      "source": [
        "from pandas.plotting import autocorrelation_plot\n",
        "autocorrelation_plot(df.Price)\n",
        "plt.show()"
      ],
      "execution_count": 14,
      "outputs": [
        {
          "output_type": "display_data",
          "data": {
            "image/png": "[encoded data removed]",
            "text/plain": [
              "<Figure size 432x288 with 1 Axes>"
            ]
          },
          "metadata": {
            "tags": []
          }
        }
      ]
    },
    {
      "cell_type": "code",
      "metadata": {
        "id": "OCdeUfETz6r-"
      },
      "source": [
        "# comparing log returns through visual display\n",
        "#fig, ax = plt.subplots(2, sharex=True, figsize=(12,6))\n",
        "#ax[0].plot(df.Price)\n",
        "#ax[0].set_title(\"Raw data\")\n",
        "#ax[1].plot(df.log_returns)\n",
        "#ax[1].set_title(\"Logged data (deflated)\")\n"
      ],
      "execution_count": 15,
      "outputs": []
    },
    {
      "cell_type": "code",
      "metadata": {
        "id": "fBhX3rm42DtG",
        "outputId": "3e705ec7-542b-4ee8-ce52-43743b6c8f7d",
        "colab": {
          "base_uri": "https://localhost:8080/",
          "height": 436
        }
      },
      "source": [
        "# comparing daily returns through visual display\n",
        "plt.figure(figsize=(15,6))\n",
        "#plt.style.use('fivethirtyeight')\n",
        "fig, ax = plt.subplots(2, sharex=True, figsize=(10,6))\n",
        "ax[0].plot(df.Price)\n",
        "ax[0].set_title(\"Raw data\")\n",
        "ax[1].plot(df.returns)\n",
        "ax[1].set_title(\"Daily returns\")\n",
        "plt.show()"
      ],
      "execution_count": 16,
      "outputs": [
        {
          "output_type": "display_data",
          "data": {
            "text/plain": [
              "<Figure size 1080x432 with 0 Axes>"
            ]
          },
          "metadata": {
            "tags": []
          }
        },
        {
          "output_type": "display_data",
          "data": {
            "image/png": "[encoded data removed]",
            "text/plain": [
              "<Figure size 720x432 with 2 Axes>"
            ]
          },
          "metadata": {
            "tags": []
          }
        }
      ]
    },
    {
      "cell_type": "code",
      "metadata": {
        "id": "z1tbVfcV1hcm"
      },
      "source": [
        "import matplotlib.pyplot as plt\n",
        "sns.set()\n",
        "#sns.distplot(df.log_returns, color='blue') #density plot\n",
        "#plt.title(\"2000-2019 Crude Oil return frequency\")\n",
        "#plt.xlabel('Possible range of data values')\n",
        "#plt.show()\n",
        "\n",
        "# Pull up summary statistics\n",
        "#print(df.log_returns.describe())"
      ],
      "execution_count": 17,
      "outputs": []
    },
    {
      "cell_type": "code",
      "metadata": {
        "id": "kYmrVIff3kCx",
        "outputId": "04ab9816-7b55-43e2-ef01-ea2298bffdbc",
        "colab": {
          "base_uri": "https://localhost:8080/",
          "height": 638
        }
      },
      "source": [
        "plt.figure(figsize=(10,6))\n",
        "#plt.style.use('fivethirtyeight')\n",
        "sns.distplot(df.returns, color='blue') #density plot\n",
        "plt.title(\"2000-2019 Crude Oil return frequency\")\n",
        "plt.xlabel('Possible range of data values')\n",
        "plt.show()\n",
        "\n",
        "# Pull up summary statistics\n",
        "print(df.returns.describe())"
      ],
      "execution_count": 18,
      "outputs": [
        {
          "output_type": "stream",
          "text": [
            "/usr/local/lib/python3.6/dist-packages/seaborn/distributions.py:2551: FutureWarning: `distplot` is a deprecated function and will be removed in a future version. Please adapt your code to use either `displot` (a figure-level function with similar flexibility) or `histplot` (an axes-level function for histograms).\n",
            "  warnings.warn(msg, FutureWarning)\n"
          ],
          "name": "stderr"
        },
        {
          "output_type": "display_data",
          "data": {
            "image/png": "[encoded data removed]",
            "text/plain": [
              "<Figure size 720x432 with 1 Axes>"
            ]
          },
          "metadata": {
            "tags": []
          }
        },
        {
          "output_type": "stream",
          "text": [
            "count    4940.000000\n",
            "mean        0.000156\n",
            "std         0.023541\n",
            "min        -0.165445\n",
            "25%        -0.012372\n",
            "50%         0.000884\n",
            "75%         0.012870\n",
            "max         0.164097\n",
            "Name: returns, dtype: float64\n"
          ],
          "name": "stdout"
        }
      ]
    },
    {
      "cell_type": "code",
      "metadata": {
        "id": "hl3l3q_gWKs3",
        "outputId": "1fa77ba9-e998-413e-c7b2-5e85b52bc5f2",
        "colab": {
          "base_uri": "https://localhost:8080/"
        }
      },
      "source": [
        "df.returns.skew(axis = 0) "
      ],
      "execution_count": 19,
      "outputs": [
        {
          "output_type": "execute_result",
          "data": {
            "text/plain": [
              "-0.119319617504601"
            ]
          },
          "metadata": {
            "tags": []
          },
          "execution_count": 19
        }
      ]
    },
    {
      "cell_type": "code",
      "metadata": {
        "id": "wO08fbdCWz0_",
        "outputId": "4e1b1a92-ce5a-4c6e-f182-edb28357ff62",
        "colab": {
          "base_uri": "https://localhost:8080/"
        }
      },
      "source": [
        "from scipy.stats import kurtosis \n",
        "print( '\\nKurtosis for retrun :', kurtosis(df.returns)) \n",
        "  \n",
        "print( '\\nKurtosis for return :',  \n",
        "      kurtosis(df.returns, fisher = False)) \n",
        "  \n",
        "print( '\\nKurtosis for return :',  \n",
        "      kurtosis(df.returns, fisher = True)) "
      ],
      "execution_count": 20,
      "outputs": [
        {
          "output_type": "stream",
          "text": [
            "\n",
            "Kurtosis for retrun : 4.042674354649169\n",
            "\n",
            "Kurtosis for return : 7.042674354649169\n",
            "\n",
            "Kurtosis for return : 4.042674354649169\n"
          ],
          "name": "stdout"
        }
      ]
    },
    {
      "cell_type": "markdown",
      "metadata": {
        "id": "AUvn7SfY1uyN"
      },
      "source": [
        "The distribution looks very symmetrical and normally distributed from distribution plot where the daily changes center around the bin 0.00. Though majority of the data points fall on the diagonal line, however, in the end, the plot shows the tendency to moving away from the line indicating volatility in the long run.\n",
        "\n",
        "From the statistic, we see that the mean is very close to the 0.00; the standard deviation is 0.02. Also, looking at the percentiles we can estimate how many of our data points fall below -0.012299, 0.000887 and  0.012955.\n",
        "\n",
        "Skewness measures the symmetry of the data about the mean. The skewness (0.095). \n",
        "The Kurtosis gives an indication of the shape of the distribution, as it compares the amount of data close to the mean with those far away from the mean (in the tails). The kurtosis (4.183) reflecting the leptokurtosis; though close range but reflects reasonable amount of volatility in Oil price on daily basis, as the skewness and kurtosis of the standard normal distribution are 0 and 3 respectively."
      ]
    },
    {
      "cell_type": "code",
      "metadata": {
        "id": "WvIhTb5d5Srv",
        "outputId": "91638c8d-d32c-453c-d540-4ffe32220761",
        "colab": {
          "base_uri": "https://localhost:8080/"
        }
      },
      "source": [
        "pip install scipy"
      ],
      "execution_count": 21,
      "outputs": [
        {
          "output_type": "stream",
          "text": [
            "Requirement already satisfied: scipy in /usr/local/lib/python3.6/dist-packages (1.4.1)\n",
            "Requirement already satisfied: numpy>=1.13.3 in /usr/local/lib/python3.6/dist-packages (from scipy) (1.18.5)\n"
          ],
          "name": "stdout"
        }
      ]
    },
    {
      "cell_type": "code",
      "metadata": {
        "id": "e5DpSLEbulS5",
        "outputId": "549420d9-5eb3-4c5e-c6d1-a400e36f54f0",
        "colab": {
          "base_uri": "https://localhost:8080/",
          "height": 311
        }
      },
      "source": [
        "import matplotlib\n",
        "from distutils.version import LooseVersion\n",
        "from sklearn.datasets import make_regression\n",
        "from sklearn.compose import TransformedTargetRegressor\n",
        "from sklearn.metrics import median_absolute_error, r2_score\n",
        "\n",
        "# `normed` is being deprecated in favor of `density` in histograms\n",
        "if LooseVersion(matplotlib.__version__) >= '2.1':\n",
        "    density_param = {'density': True}\n",
        "else:\n",
        "    density_param = {'normed': True}\n",
        "    \n",
        "X, y = make_regression(n_samples=4940, noise=100, random_state=0)\n",
        "y = np.exp((df.Price + abs(df.Price.min())) / 200)\n",
        "y_trans = df.returns\n",
        "\n",
        "from matplotlib import style\n",
        "plt.figure(figsize=(10,6))\n",
        "\n",
        "f, (ax0, ax1) = plt.subplots(1, 2)\n",
        "ax0.hist(y, bins=100, **density_param)\n",
        "ax0.set_xlim([0, 2000])\n",
        "ax0.set_ylabel('Probability', fontsize=12)\n",
        "ax0.set_xlabel('Target', fontsize=12)\n",
        "ax0.set_title('Target distribution', fontsize =12)\n",
        "\n",
        "ax1.hist(y_trans, bins=100, **density_param)\n",
        "ax1.set_ylabel('Probability', fontsize=12)\n",
        "ax1.set_xlabel('Target', fontsize=12)\n",
        "ax1.set_title('Transformed target distribution', fontsize =12)\n",
        "\n",
        "f.suptitle(\"Crude Stock data\", y=0.035, fontsize=12)\n",
        "f.tight_layout(rect=[0.05, 0.05, 0.95, 0.95])"
      ],
      "execution_count": 22,
      "outputs": [
        {
          "output_type": "display_data",
          "data": {
            "text/plain": [
              "<Figure size 720x432 with 0 Axes>"
            ]
          },
          "metadata": {
            "tags": []
          }
        },
        {
          "output_type": "display_data",
          "data": {
            "image/png": "[encoded data removed]",
            "text/plain": [
              "<Figure size 432x288 with 2 Axes>"
            ]
          },
          "metadata": {
            "tags": []
          }
        }
      ]
    },
    {
      "cell_type": "code",
      "metadata": {
        "id": "Zhr_wOMK74od"
      },
      "source": [
        "#df.returns.skew(axis = 0) "
      ],
      "execution_count": 23,
      "outputs": []
    },
    {
      "cell_type": "code",
      "metadata": {
        "id": "R2HtY2SX1oue",
        "outputId": "7b43bcf1-74e5-43bf-d305-ec534e477f04",
        "colab": {
          "base_uri": "https://localhost:8080/"
        }
      },
      "source": [
        "from statsmodels.graphics.gofplots import qqplot\n",
        "# q-q plot\n",
        "\n",
        "import seaborn as sns\n",
        "#plt.figure(figsize=(10,6))\n",
        "#plt.style.use('fivethirtyeight')\n",
        "#qqplot(df.log_returns, line='r')\n",
        "#plt.title('Crude Oil Daily Return', size = '12')\n",
        "#plt.show()"
      ],
      "execution_count": 24,
      "outputs": [
        {
          "output_type": "stream",
          "text": [
            "/usr/local/lib/python3.6/dist-packages/statsmodels/tools/_testing.py:19: FutureWarning: pandas.util.testing is deprecated. Use the functions in the public API at pandas.testing instead.\n",
            "  import pandas.util.testing as tm\n"
          ],
          "name": "stderr"
        }
      ]
    },
    {
      "cell_type": "code",
      "metadata": {
        "id": "WYLfZVnigtbL"
      },
      "source": [
        "#plt.figure(figsize=(10,6))\n",
        "#plt.style.use('fivethirtyeight')\n",
        "#qqplot(df.Price, line='r')\n",
        "#plt.title('Crude Oil', size = '12')\n",
        "#plt.show()"
      ],
      "execution_count": 25,
      "outputs": []
    },
    {
      "cell_type": "code",
      "metadata": {
        "id": "irfefBKk31mY"
      },
      "source": [
        "#from statsmodels.graphics.gofplots import qqplot\n",
        "\n",
        "#plt.figure(figsize=(10,6))\n",
        "#plt.style.use('fivethirtyeight')\n",
        "#qqplot(df.returns, line='r')\n",
        "#plt.title('Crude Oil Daily Return', size = '12')\n",
        "#plt.show()"
      ],
      "execution_count": 26,
      "outputs": []
    },
    {
      "cell_type": "code",
      "metadata": {
        "id": "WyhQYnEQ1tvV"
      },
      "source": [
        "from scipy import stats\n",
        "#stats.jarque_bera(df.log_returns)"
      ],
      "execution_count": 27,
      "outputs": []
    },
    {
      "cell_type": "code",
      "metadata": {
        "id": "cXEZC7ow4BK6",
        "outputId": "13ea0770-5e21-4992-f025-ad0647a97f68",
        "colab": {
          "base_uri": "https://localhost:8080/"
        }
      },
      "source": [
        "from scipy import stats\n",
        "stats.jarque_bera(df.returns)"
      ],
      "execution_count": 28,
      "outputs": [
        {
          "output_type": "execute_result",
          "data": {
            "text/plain": [
              "(3375.693433302615, 0.0)"
            ]
          },
          "metadata": {
            "tags": []
          },
          "execution_count": 28
        }
      ]
    },
    {
      "cell_type": "markdown",
      "metadata": {
        "id": "1gLmSUZ816jU"
      },
      "source": [
        "Furthermore, the value of Jarque-Bera test shows that the traditional normal distribution assumption is suitable for the real distribution of Crude Oil daily returns.\n",
        "\n",
        " - The H0 for the test is that the data is normally distributed;\n",
        " - The H1 is that the data does not come from a normal distribution.\n",
        "\n",
        "The cumulative daily rate of return is useful to determine the value of an investment at regular intervals. We have calculated the cumulative daily rate of return by using the daily % change values, adding 1 to them and calculating the cumulative product with the resulting value."
      ]
    },
    {
      "cell_type": "markdown",
      "metadata": {
        "id": "rG0EypDM4xuK"
      },
      "source": [
        "### White Noise and Random Walks\n",
        "White noise is the first Time Series Model (TSM) we need to understand. By definition a time series that is a white noise process has serially UNcorrelated errors and the expected mean of those errors is equal to zero. Another description for serially uncorrelated errors is, independent and identically distributed (iid.). This is important because, if our TSM is appropriate and successful at capturing the underlying process, the residuals of our model will be iid. and resemble a white noise process. Therefore part of TSA is literally trying to fit a model to the time series such that the residual series is indistinguishable from white noise."
      ]
    },
    {
      "cell_type": "code",
      "metadata": {
        "id": "_3_v8LBF0jN6"
      },
      "source": [
        "import statsmodels.formula.api as smf\n",
        "import statsmodels.tsa.api as smt\n",
        "import statsmodels.api as sm\n",
        "import scipy.stats as scs\n",
        "import matplotlib as mpl\n"
      ],
      "execution_count": 29,
      "outputs": []
    },
    {
      "cell_type": "code",
      "metadata": {
        "id": "YPfOhLYtWTym"
      },
      "source": [
        "def tsplot(y, lags=None, figsize=(10, 8), style='bmh'):\n",
        "    if not isinstance(y, pd.Series):\n",
        "        y = pd.Series(df.Price)\n",
        "    with plt.style.context(style):    \n",
        "        fig = plt.figure(figsize=figsize)\n",
        "        layout = (3, 2)\n",
        "        ts_ax = plt.subplot2grid(layout, (0, 0), colspan=2)\n",
        "        acf_ax = plt.subplot2grid(layout, (1, 0))\n",
        "        pacf_ax = plt.subplot2grid(layout, (1, 1))\n",
        "        qq_ax = plt.subplot2grid(layout, (2, 0))\n",
        "        pp_ax = plt.subplot2grid(layout, (2, 1))\n",
        "        \n",
        "        y.plot(ax=ts_ax)\n",
        "        ts_ax.set_title('Crude Oil Time Series Analysis Plots')\n",
        "        smt.graphics.plot_acf(y, lags=lags, ax=acf_ax, alpha=0.5)\n",
        "        smt.graphics.plot_pacf(y, lags=lags, ax=pacf_ax, alpha=0.5)\n",
        "        sm.qqplot(y, line='s', ax=qq_ax)\n",
        "        qq_ax.set_title('QQ Plot')        \n",
        "        scs.probplot(y, sparams=(y.mean(), y.std()), plot=pp_ax)\n",
        "\n",
        "        plt.tight_layout()\n",
        "    return "
      ],
      "execution_count": 30,
      "outputs": []
    },
    {
      "cell_type": "code",
      "metadata": {
        "id": "mVic0F8HWsUF",
        "outputId": "3f9e6518-866c-4fb2-bf19-2279fee65c45",
        "colab": {
          "base_uri": "https://localhost:8080/",
          "height": 581
        }
      },
      "source": [
        "np.random.seed(1)\n",
        "\n",
        "# plot of discrete white noise\n",
        "randser = np.random.normal(size=1000)\n",
        "tsplot(randser)"
      ],
      "execution_count": 31,
      "outputs": [
        {
          "output_type": "display_data",
          "data": {
            "image/png": "[encoded data removed]",
            "text/plain": [
              "<Figure size 720x576 with 5 Axes>"
            ]
          },
          "metadata": {
            "tags": []
          }
        }
      ]
    },
    {
      "cell_type": "markdown",
      "metadata": {
        "id": "EjDjbUKd2ooP"
      },
      "source": [
        "We can see a clear evidence of significant serial autocorrelation in the original data. Keep in mind we should see approximately 5% significance in the autocorrelation plots due to pure chance as a result of sampling from the Normal distribution. Below that we can see the QQ and Probability Plots, which compares the distribution of our data with another theoretical distribution. The shape of the QQ and Probability plots indicate that the process is close to normality but with 'heavy tails'. \n",
        "\n",
        "Moreover, our TS is not stationary. Let's find out if the random walk model is a good fit for our data. Recall that a random walk is x (t) = x(t-1) + w(t). Using algebra we can say that x(t) - x(t-1) = w(t)."
      ]
    },
    {
      "cell_type": "code",
      "metadata": {
        "id": "KK9VDOpB2Qrg"
      },
      "source": [
        "# Calculate the cumulative daily returns\n",
        "#df['cum_daily_return'] = (1 + returns).cumprod().fillna(0)\n",
        "\n",
        "# Print `cum_daily_return`\n",
        "#df.cum_daily_return.head(15)"
      ],
      "execution_count": 32,
      "outputs": []
    },
    {
      "cell_type": "code",
      "metadata": {
        "id": "lD1Sxm0F3eyB"
      },
      "source": [
        "#qqplot(df.cum_daily_return, line='r')\n",
        "#plt.title('Crude Oil Daily Return', size = '12')\n",
        "#plt.show()"
      ],
      "execution_count": 33,
      "outputs": []
    },
    {
      "cell_type": "code",
      "metadata": {
        "id": "DKX7m8fT3yWp"
      },
      "source": [
        "#sns.distplot(df.cum_daily_return, color='blue') #density plot\n",
        "#plt.title(\"2000-2019 Crude Oil cumulative return frequency\")\n",
        "#plt.xlabel('Possible range of data values')\n",
        "#plt.show()\n",
        "\n",
        "# Pull up summary statistics\n",
        "#print(df.cum_daily_return.describe())"
      ],
      "execution_count": 34,
      "outputs": []
    },
    {
      "cell_type": "markdown",
      "metadata": {
        "id": "byP1OQ9u4v4a"
      },
      "source": [
        "## Quantitative Volatility Analysis\n",
        "The volatility of a stock is a measurement of the change in variance in the returns of a stock over a specific period of time.\n",
        "The volatility is calculated by taking a rolling window standard deviation on the percentage change. Note that the size of the window can and will change the overall result: if you take the window wider and make min_periods larger, your result will become less representative. If you make it smaller and make the window more narrow, the result will come closer to the standard deviation.\n",
        "\n",
        "Considering all of this, you see that it’s definitely a skill to get the right window size based upon the data sampling frequency."
      ]
    },
    {
      "cell_type": "code",
      "metadata": {
        "id": "KAH3-HvJ4hf5"
      },
      "source": [
        "# Define the minumum of periods to consider \n",
        "#min_periods = 75 \n",
        "\n",
        "# Calculate the volatility\n",
        "#vol = df.log_returns.rolling(min_periods).std() * np.sqrt(min_periods) \n",
        "\n",
        "# Plot the volatility\n",
        "#vol.plot(figsize=(10, 6))\n",
        "\n",
        "# Show the plot\n",
        "#plt.show()"
      ],
      "execution_count": 35,
      "outputs": []
    },
    {
      "cell_type": "code",
      "metadata": {
        "id": "Q6Ln7APb4L0s",
        "outputId": "aff11d56-4fda-42ec-b64b-2a249184e322",
        "colab": {
          "base_uri": "https://localhost:8080/",
          "height": 400
        }
      },
      "source": [
        "# Define the minumum of periods to consider \n",
        "min_periods = 75 \n",
        "\n",
        "# Calculate the volatility\n",
        "vol = df.returns.rolling(min_periods).std() * np.sqrt(min_periods) \n",
        "\n",
        "# Plot the volatility\n",
        "vol.plot(figsize=(10, 6))\n",
        "\n",
        "# Show the plot\n",
        "plt.show()"
      ],
      "execution_count": 36,
      "outputs": [
        {
          "output_type": "display_data",
          "data": {
            "image/png": "[encoded data removed]",
            "text/plain": [
              "<Figure size 720x432 with 1 Axes>"
            ]
          },
          "metadata": {
            "tags": []
          }
        }
      ]
    },
    {
      "cell_type": "code",
      "metadata": {
        "id": "P7vglvon5V6O"
      },
      "source": [
        "from statsmodels.tsa.stattools import adfuller  # stationary test\n",
        "#print(\" > Is the Daily Return stationary ?\")\n",
        "#dftest = adfuller(df.log_returns, autolag='AIC')\n",
        "#print(\"Test statistic = {:.3f}\".format(dftest[0]))\n",
        "#print(\"P-value = {:.3f}\".format(dftest[1]))\n",
        "#print(\"Critical values :\")\n",
        "#for k, v in dftest[4].items():\n",
        "    #print(\"\\t{}: {} - The data is {} stationary with {}% confidence\".format(k, v, \"not\" if v<dftest[0] else \"\", 100-int(k[:-1])))\n",
        "    #print('*'*60)"
      ],
      "execution_count": 37,
      "outputs": []
    },
    {
      "cell_type": "code",
      "metadata": {
        "id": "O_Uy7XuyfDbW",
        "outputId": "6ddf5fd2-4321-4ef2-ecfb-30f4f030d3cb",
        "colab": {
          "base_uri": "https://localhost:8080/"
        }
      },
      "source": [
        "pip install arch"
      ],
      "execution_count": 39,
      "outputs": [
        {
          "output_type": "stream",
          "text": [
            "Collecting arch\n",
            "\u001b[?25l  Downloading https://files.pythonhosted.org/packages/7f/5c/ef80e96f2cdc6c2d293b7e4688888a4428963c966fbb0c749c9078e68bb6/arch-4.15-cp36-cp36m-manylinux1_x86_64.whl (790kB)\n",
            "\r\u001b[K     |▍                               | 10kB 15.7MB/s eta 0:00:01\r\u001b[K     |▉                               | 20kB 3.1MB/s eta 0:00:01\r\u001b[K     |█▎                              | 30kB 4.0MB/s eta 0:00:01\r\u001b[K     |█▋                              | 40kB 4.3MB/s eta 0:00:01\r\u001b[K     |██                              | 51kB 3.6MB/s eta 0:00:01\r\u001b[K     |██▌                             | 61kB 4.0MB/s eta 0:00:01\r\u001b[K     |███                             | 71kB 4.4MB/s eta 0:00:01\r\u001b[K     |███▎                            | 81kB 4.7MB/s eta 0:00:01\r\u001b[K     |███▊                            | 92kB 5.1MB/s eta 0:00:01\r\u001b[K     |████▏                           | 102kB 4.9MB/s eta 0:00:01\r\u001b[K     |████▋                           | 112kB 4.9MB/s eta 0:00:01\r\u001b[K     |█████                           | 122kB 4.9MB/s eta 0:00:01\r\u001b[K     |█████▍                          | 133kB 4.9MB/s eta 0:00:01\r\u001b[K     |█████▉                          | 143kB 4.9MB/s eta 0:00:01\r\u001b[K     |██████▏                         | 153kB 4.9MB/s eta 0:00:01\r\u001b[K     |██████▋                         | 163kB 4.9MB/s eta 0:00:01\r\u001b[K     |███████                         | 174kB 4.9MB/s eta 0:00:01\r\u001b[K     |███████▌                        | 184kB 4.9MB/s eta 0:00:01\r\u001b[K     |███████▉                        | 194kB 4.9MB/s eta 0:00:01\r\u001b[K     |████████▎                       | 204kB 4.9MB/s eta 0:00:01\r\u001b[K     |████████▊                       | 215kB 4.9MB/s eta 0:00:01\r\u001b[K     |█████████▏                      | 225kB 4.9MB/s eta 0:00:01\r\u001b[K     |█████████▌                      | 235kB 4.9MB/s eta 0:00:01\r\u001b[K     |██████████                      | 245kB 4.9MB/s eta 0:00:01\r\u001b[K     |██████████▍                     | 256kB 4.9MB/s eta 0:00:01\r\u001b[K     |██████████▉                     | 266kB 4.9MB/s eta 0:00:01\r\u001b[K     |███████████▏                    | 276kB 4.9MB/s eta 0:00:01\r\u001b[K     |███████████▋                    | 286kB 4.9MB/s eta 0:00:01\r\u001b[K     |████████████                    | 296kB 4.9MB/s eta 0:00:01\r\u001b[K     |████████████▍                   | 307kB 4.9MB/s eta 0:00:01\r\u001b[K     |████████████▉                   | 317kB 4.9MB/s eta 0:00:01\r\u001b[K     |█████████████▎                  | 327kB 4.9MB/s eta 0:00:01\r\u001b[K     |█████████████▊                  | 337kB 4.9MB/s eta 0:00:01\r\u001b[K     |██████████████                  | 348kB 4.9MB/s eta 0:00:01\r\u001b[K     |██████████████▌                 | 358kB 4.9MB/s eta 0:00:01\r\u001b[K     |███████████████                 | 368kB 4.9MB/s eta 0:00:01\r\u001b[K     |███████████████▍                | 378kB 4.9MB/s eta 0:00:01\r\u001b[K     |███████████████▊                | 389kB 4.9MB/s eta 0:00:01\r\u001b[K     |████████████████▏               | 399kB 4.9MB/s eta 0:00:01\r\u001b[K     |████████████████▋               | 409kB 4.9MB/s eta 0:00:01\r\u001b[K     |█████████████████               | 419kB 4.9MB/s eta 0:00:01\r\u001b[K     |█████████████████▍              | 430kB 4.9MB/s eta 0:00:01\r\u001b[K     |█████████████████▉              | 440kB 4.9MB/s eta 0:00:01\r\u001b[K     |██████████████████▎             | 450kB 4.9MB/s eta 0:00:01\r\u001b[K     |██████████████████▋             | 460kB 4.9MB/s eta 0:00:01\r\u001b[K     |███████████████████             | 471kB 4.9MB/s eta 0:00:01\r\u001b[K     |███████████████████▌            | 481kB 4.9MB/s eta 0:00:01\r\u001b[K     |████████████████████            | 491kB 4.9MB/s eta 0:00:01\r\u001b[K     |████████████████████▎           | 501kB 4.9MB/s eta 0:00:01\r\u001b[K     |████████████████████▊           | 512kB 4.9MB/s eta 0:00:01\r\u001b[K     |█████████████████████▏          | 522kB 4.9MB/s eta 0:00:01\r\u001b[K     |█████████████████████▋          | 532kB 4.9MB/s eta 0:00:01\r\u001b[K     |██████████████████████          | 542kB 4.9MB/s eta 0:00:01\r\u001b[K     |██████████████████████▍         | 552kB 4.9MB/s eta 0:00:01\r\u001b[K     |██████████████████████▉         | 563kB 4.9MB/s eta 0:00:01\r\u001b[K     |███████████████████████▎        | 573kB 4.9MB/s eta 0:00:01\r\u001b[K     |███████████████████████▋        | 583kB 4.9MB/s eta 0:00:01\r\u001b[K     |████████████████████████        | 593kB 4.9MB/s eta 0:00:01\r\u001b[K     |████████████████████████▌       | 604kB 4.9MB/s eta 0:00:01\r\u001b[K     |████████████████████████▉       | 614kB 4.9MB/s eta 0:00:01\r\u001b[K     |█████████████████████████▎      | 624kB 4.9MB/s eta 0:00:01\r\u001b[K     |█████████████████████████▊      | 634kB 4.9MB/s eta 0:00:01\r\u001b[K     |██████████████████████████▏     | 645kB 4.9MB/s eta 0:00:01\r\u001b[K     |██████████████████████████▌     | 655kB 4.9MB/s eta 0:00:01\r\u001b[K     |███████████████████████████     | 665kB 4.9MB/s eta 0:00:01\r\u001b[K     |███████████████████████████▍    | 675kB 4.9MB/s eta 0:00:01\r\u001b[K     |███████████████████████████▉    | 686kB 4.9MB/s eta 0:00:01\r\u001b[K     |████████████████████████████▏   | 696kB 4.9MB/s eta 0:00:01\r\u001b[K     |████████████████████████████▋   | 706kB 4.9MB/s eta 0:00:01\r\u001b[K     |█████████████████████████████   | 716kB 4.9MB/s eta 0:00:01\r\u001b[K     |█████████████████████████████▍  | 727kB 4.9MB/s eta 0:00:01\r\u001b[K     |█████████████████████████████▉  | 737kB 4.9MB/s eta 0:00:01\r\u001b[K     |██████████████████████████████▎ | 747kB 4.9MB/s eta 0:00:01\r\u001b[K     |██████████████████████████████▊ | 757kB 4.9MB/s eta 0:00:01\r\u001b[K     |███████████████████████████████ | 768kB 4.9MB/s eta 0:00:01\r\u001b[K     |███████████████████████████████▌| 778kB 4.9MB/s eta 0:00:01\r\u001b[K     |████████████████████████████████| 788kB 4.9MB/s eta 0:00:01\r\u001b[K     |████████████████████████████████| 798kB 4.9MB/s \n",
            "\u001b[?25hRequirement already satisfied: cython>=0.29.14 in /usr/local/lib/python3.6/dist-packages (from arch) (0.29.21)\n",
            "Requirement already satisfied: statsmodels>=0.9 in /usr/local/lib/python3.6/dist-packages (from arch) (0.10.2)\n",
            "Requirement already satisfied: scipy>=1.0.1 in /usr/local/lib/python3.6/dist-packages (from arch) (1.4.1)\n",
            "Requirement already satisfied: pandas>=0.23 in /usr/local/lib/python3.6/dist-packages (from arch) (1.1.4)\n",
            "Collecting property-cached>=1.6.3\n",
            "  Downloading https://files.pythonhosted.org/packages/5c/6c/94d8e520b20a2502e508e1c558f338061cf409cbee78fd6a3a5c6ae812bd/property_cached-1.6.4-py2.py3-none-any.whl\n",
            "Requirement already satisfied: numpy>=1.14 in /usr/local/lib/python3.6/dist-packages (from arch) (1.18.5)\n",
            "Requirement already satisfied: patsy>=0.4.0 in /usr/local/lib/python3.6/dist-packages (from statsmodels>=0.9->arch) (0.5.1)\n",
            "Requirement already satisfied: pytz>=2017.2 in /usr/local/lib/python3.6/dist-packages (from pandas>=0.23->arch) (2018.9)\n",
            "Requirement already satisfied: python-dateutil>=2.7.3 in /usr/local/lib/python3.6/dist-packages (from pandas>=0.23->arch) (2.8.1)\n",
            "Requirement already satisfied: six in /usr/local/lib/python3.6/dist-packages (from patsy>=0.4.0->statsmodels>=0.9->arch) (1.15.0)\n",
            "Installing collected packages: property-cached, arch\n",
            "Successfully installed arch-4.15 property-cached-1.6.4\n"
          ],
          "name": "stdout"
        }
      ]
    },
    {
      "cell_type": "code",
      "metadata": {
        "id": "FKb1x7Ihgb0p",
        "outputId": "9ea6f61a-25f4-4fbf-eb1a-0486451645f0",
        "colab": {
          "base_uri": "https://localhost:8080/"
        }
      },
      "source": [
        "from arch.unitroot import ADF\n",
        "\n",
        "ADF = ADF(df.returns)\n",
        "print(ADF.summary().as_text())"
      ],
      "execution_count": 40,
      "outputs": [
        {
          "output_type": "stream",
          "text": [
            "   Augmented Dickey-Fuller Results   \n",
            "=====================================\n",
            "Test Statistic                -30.185\n",
            "P-value                         0.000\n",
            "Lags                                5\n",
            "-------------------------------------\n",
            "\n",
            "Trend: Constant\n",
            "Critical Values: -3.43 (1%), -2.86 (5%), -2.57 (10%)\n",
            "Null Hypothesis: The process contains a unit root.\n",
            "Alternative Hypothesis: The process is weakly stationary.\n"
          ],
          "name": "stdout"
        }
      ]
    },
    {
      "cell_type": "code",
      "metadata": {
        "id": "kdEVPoqU4YhM"
      },
      "source": [
        "#adf = ADF(df.returns)\n",
        "#print(adf.summary().as_text())"
      ],
      "execution_count": 41,
      "outputs": []
    },
    {
      "cell_type": "code",
      "metadata": {
        "id": "afazB7k9hFjW",
        "outputId": "749f4257-9bf9-4166-a901-7cc08815f9e9",
        "colab": {
          "base_uri": "https://localhost:8080/",
          "height": 178
        }
      },
      "source": [
        "adf.trend = 'ct'  # ct= constant & time trend\n",
        "print(adf.summary().as_text())"
      ],
      "execution_count": 42,
      "outputs": [
        {
          "output_type": "error",
          "ename": "NameError",
          "evalue": "ignored",
          "traceback": [
            "\u001b[0;31m---------------------------------------------------------------------------\u001b[0m",
            "\u001b[0;31mNameError\u001b[0m                                 Traceback (most recent call last)",
            "\u001b[0;32m<ipython-input-42-912033c2ce9b>\u001b[0m in \u001b[0;36m<module>\u001b[0;34m()\u001b[0m\n\u001b[0;32m----> 1\u001b[0;31m \u001b[0madf\u001b[0m\u001b[0;34m.\u001b[0m\u001b[0mtrend\u001b[0m \u001b[0;34m=\u001b[0m \u001b[0;34m'ct'\u001b[0m  \u001b[0;31m# ct= constant & time trend\u001b[0m\u001b[0;34m\u001b[0m\u001b[0;34m\u001b[0m\u001b[0m\n\u001b[0m\u001b[1;32m      2\u001b[0m \u001b[0mprint\u001b[0m\u001b[0;34m(\u001b[0m\u001b[0madf\u001b[0m\u001b[0;34m.\u001b[0m\u001b[0msummary\u001b[0m\u001b[0;34m(\u001b[0m\u001b[0;34m)\u001b[0m\u001b[0;34m.\u001b[0m\u001b[0mas_text\u001b[0m\u001b[0;34m(\u001b[0m\u001b[0;34m)\u001b[0m\u001b[0;34m)\u001b[0m\u001b[0;34m\u001b[0m\u001b[0;34m\u001b[0m\u001b[0m\n",
            "\u001b[0;31mNameError\u001b[0m: name 'adf' is not defined"
          ]
        }
      ]
    },
    {
      "cell_type": "code",
      "metadata": {
        "id": "u9SNSyk5hT4p",
        "outputId": "6579ebf2-9d51-4ce1-a14e-927a88830c10",
        "colab": {
          "base_uri": "https://localhost:8080/"
        }
      },
      "source": [
        "reg_res = ADF.regression\n",
        "print(reg_res.summary().as_text())"
      ],
      "execution_count": 43,
      "outputs": [
        {
          "output_type": "stream",
          "text": [
            "                            OLS Regression Results                            \n",
            "==============================================================================\n",
            "Dep. Variable:                      y   R-squared:                       0.521\n",
            "Model:                            OLS   Adj. R-squared:                  0.521\n",
            "Method:                 Least Squares   F-statistic:                     893.5\n",
            "Date:                Wed, 11 Nov 2020   Prob (F-statistic):               0.00\n",
            "Time:                        08:47:28   Log-Likelihood:                 11512.\n",
            "No. Observations:                4934   AIC:                        -2.301e+04\n",
            "Df Residuals:                    4927   BIC:                        -2.296e+04\n",
            "Df Model:                           6                                         \n",
            "Covariance Type:            nonrobust                                         \n",
            "==============================================================================\n",
            "                 coef    std err          t      P>|t|      [0.025      0.975]\n",
            "------------------------------------------------------------------------------\n",
            "Level.L1      -1.0911      0.036    -30.185      0.000      -1.162      -1.020\n",
            "Diff.L1        0.0521      0.033      1.585      0.113      -0.012       0.116\n",
            "Diff.L2        0.0266      0.029      0.902      0.367      -0.031       0.084\n",
            "Diff.L3        0.0565      0.026      2.215      0.027       0.007       0.106\n",
            "Diff.L4        0.0705      0.021      3.435      0.001       0.030       0.111\n",
            "Diff.L5        0.0295      0.014      2.070      0.039       0.002       0.057\n",
            "const          0.0002      0.000      0.506      0.613      -0.000       0.001\n",
            "==============================================================================\n",
            "Omnibus:                      467.494   Durbin-Watson:                   2.000\n",
            "Prob(Omnibus):                  0.000   Jarque-Bera (JB):             3221.757\n",
            "Skew:                          -0.137   Prob(JB):                         0.00\n",
            "Kurtosis:                       6.949   Cond. No.                         183.\n",
            "==============================================================================\n",
            "\n",
            "Warnings:\n",
            "[1] Standard Errors assume that the covariance matrix of the errors is correctly specified.\n"
          ],
          "name": "stdout"
        }
      ]
    },
    {
      "cell_type": "code",
      "metadata": {
        "id": "9R2aD0JYh60_"
      },
      "source": [
        "#resids = pd.DataFrame(reg_res.resid)\n",
        "#resids.index = df.log_returns.index[6:]\n",
        "#resids.columns = ['resids']\n",
        "#fig = resids.plot()"
      ],
      "execution_count": null,
      "outputs": []
    },
    {
      "cell_type": "code",
      "metadata": {
        "id": "-wUIatBLsgF7",
        "outputId": "16adc18e-9a36-40ab-9538-7243b923d9b1",
        "colab": {
          "base_uri": "https://localhost:8080/",
          "height": 400
        }
      },
      "source": [
        "resids = pd.DataFrame(reg_res.resid)\n",
        "resids.index = df.returns.index[6:]\n",
        "resids.columns = ['resids']\n",
        "fig = resids.plot(figsize=(10, 6))"
      ],
      "execution_count": 44,
      "outputs": [
        {
          "output_type": "display_data",
          "data": {
            "image/png": "[encoded data removed]",
            "text/plain": [
              "<Figure size 720x432 with 1 Axes>"
            ]
          },
          "metadata": {
            "tags": []
          }
        }
      ]
    },
    {
      "cell_type": "markdown",
      "metadata": {
        "id": "8rWn_hJ2iWy_"
      },
      "source": [
        "Since the number lags was automatically set, it is good to check whether the residuals appear to be white noise."
      ]
    },
    {
      "cell_type": "code",
      "metadata": {
        "id": "7mc7FiCD5oBC"
      },
      "source": [
        "from statsmodels.graphics.tsaplots import plot_acf, plot_pacf\n",
        "import statsmodels.api as sm\n",
        "#acf = pd.DataFrame(sm.tsa.stattools.acf(df.log_returns), columns=['ACF(CrudeOil)'])\n",
        "#fig = acf[1:].plot(kind='bar', title='Autocorrelations', figsize=(10, 6))"
      ],
      "execution_count": 45,
      "outputs": []
    },
    {
      "cell_type": "code",
      "metadata": {
        "id": "dvJvQjw74lgQ",
        "outputId": "cd110c11-1beb-434b-cb71-eb1f6d7442d9",
        "colab": {
          "base_uri": "https://localhost:8080/",
          "height": 474
        }
      },
      "source": [
        "acf = pd.DataFrame(sm.tsa.stattools.acf(df.returns), columns=['ACF(CrudeOil)'])\n",
        "fig = acf[1:].plot(kind='bar', title='Autocorrelations', figsize=(10, 6))"
      ],
      "execution_count": 46,
      "outputs": [
        {
          "output_type": "stream",
          "text": [
            "/usr/local/lib/python3.6/dist-packages/statsmodels/tsa/stattools.py:541: FutureWarning: fft=True will become the default in a future version of statsmodels. To suppress this warning, explicitly set fft=False.\n",
            "  warnings.warn(msg, FutureWarning)\n"
          ],
          "name": "stderr"
        },
        {
          "output_type": "display_data",
          "data": {
            "image/png": "[encoded data removed]",
            "text/plain": [
              "<Figure size 720x432 with 1 Axes>"
            ]
          },
          "metadata": {
            "tags": []
          }
        }
      ]
    },
    {
      "cell_type": "code",
      "metadata": {
        "id": "tjbNqUM5jBxs",
        "outputId": "0beccc1f-973d-46f0-b3ee-d39bafee178f",
        "colab": {
          "base_uri": "https://localhost:8080/",
          "height": 420
        }
      },
      "source": [
        "acf = pd.DataFrame(sm.tsa.stattools.acf(reg_res.resid, fft= True), columns=['ACF'])\n",
        "fig = acf[1:].plot(kind='bar', title='Residual Autocorrelations', figsize=(10, 6))"
      ],
      "execution_count": 47,
      "outputs": [
        {
          "output_type": "display_data",
          "data": {
            "image/png": "[encoded data removed]",
            "text/plain": [
              "<Figure size 720x432 with 1 Axes>"
            ]
          },
          "metadata": {
            "tags": []
          }
        }
      ]
    },
    {
      "cell_type": "markdown",
      "metadata": {
        "id": "cRDCqKTek_AV"
      },
      "source": [
        "### KPSS Testing\n",
        "The KPSS test differs from the three previous in that the null is a stationary process and the alternative is a unit root.\n",
        "Note that here the null is rejected which indicates that the series might be a unit root.\n",
        "\n",
        "The null hypothesis of the KPSS test is that the series is weakly stationary and the alternative is that it is non-stationary. If the p-value is above a critical size, then the null cannot be rejected that there and the series appears stationary.\n",
        "The p-values and critical values were computed using an extensive simulation based on 100,000,000 replications using series with 2,000 observations.\n",
        "- Kwiatkowski, D.; Phillips, P. C. B.; Schmidt, P.; Shin, Y. (1992). “Testing the null hypothesis of stationarity against the alternative of a unit root”. Journal of Econometrics 54 (1-3), 159-178"
      ]
    },
    {
      "cell_type": "code",
      "metadata": {
        "id": "UWk2inlDi8dI",
        "outputId": "81645884-d181-4cd1-814f-1a73cef8b971",
        "colab": {
          "base_uri": "https://localhost:8080/"
        }
      },
      "source": [
        "from arch.unitroot import KPSS\n",
        "\n",
        "kpss = KPSS(df.returns)\n",
        "print(kpss.summary().as_text())"
      ],
      "execution_count": 48,
      "outputs": [
        {
          "output_type": "stream",
          "text": [
            "    KPSS Stationarity Test Results   \n",
            "=====================================\n",
            "Test Statistic                  0.133\n",
            "P-value                         0.445\n",
            "Lags                               16\n",
            "-------------------------------------\n",
            "\n",
            "Trend: Constant\n",
            "Critical Values: 0.74 (1%), 0.46 (5%), 0.35 (10%)\n",
            "Null Hypothesis: The process is weakly stationary.\n",
            "Alternative Hypothesis: The process contains a unit root.\n"
          ],
          "name": "stdout"
        }
      ]
    },
    {
      "cell_type": "markdown",
      "metadata": {
        "id": "18Ne2xJVlJ38"
      },
      "source": [
        "Changing the trend does not alter the conclusion."
      ]
    },
    {
      "cell_type": "code",
      "metadata": {
        "id": "YUn9blbelLYk",
        "outputId": "c8aeac9a-afca-4146-ad26-4ec7d79867e4",
        "colab": {
          "base_uri": "https://localhost:8080/"
        }
      },
      "source": [
        "kpss.trend = 'ct'\n",
        "print(kpss.summary().as_text())"
      ],
      "execution_count": 49,
      "outputs": [
        {
          "output_type": "stream",
          "text": [
            "    KPSS Stationarity Test Results   \n",
            "=====================================\n",
            "Test Statistic                  0.035\n",
            "P-value                         0.804\n",
            "Lags                               16\n",
            "-------------------------------------\n",
            "\n",
            "Trend: Constant and Linear Time Trend\n",
            "Critical Values: 0.22 (1%), 0.15 (5%), 0.12 (10%)\n",
            "Null Hypothesis: The process is weakly stationary.\n",
            "Alternative Hypothesis: The process contains a unit root.\n"
          ],
          "name": "stdout"
        },
        {
          "output_type": "stream",
          "text": [
            "/usr/local/lib/python3.6/dist-packages/arch/unitroot/unitroot.py:653: FutureWarning: Mutating unit root tests is deprecated and will raise an error in the first release of arch 5.x after August 2020. Create new test objects to change test parametrization.\n",
            "\n",
            "  warnings.warn(MUTATING_WARNING, FutureWarning)\n"
          ],
          "name": "stderr"
        }
      ]
    },
    {
      "cell_type": "markdown",
      "metadata": {
        "id": "xVF2UcDx5gx0"
      },
      "source": [
        "### Autoregression Intuition\n",
        "Consider a time series that was generated by an autoregression (AR) process with a lag of k.\n",
        "\n",
        "We know that the ACF describes the autocorrelation between an observation and another observation at a prior time step that includes direct and indirect dependence information.\n",
        "\n",
        "This means we would expect the ACF for the AR(k) time series to be strong to a lag of k and the inertia of that relationship would carry on to subsequent lag values, trailing off at some point as the effect was weakened.\n",
        "\n",
        "We know that the PACF only describes the direct relationship between an observation and its lag. This would suggest that there would be no correlation for lag values beyond k.\n",
        "\n",
        "This is exactly the expectation of the ACF and PACF plots for an AR(k) process.\n",
        "\n",
        "### Moving Average Intuition\n",
        "Consider a time series that was generated by a moving average (MA) process with a lag of k.\n",
        "\n",
        "Remember that the moving average process is an autoregression model of the time series of residual errors from prior predictions. Another way to think about the moving average model is that it corrects future forecasts based on errors made on recent forecasts.\n",
        "\n",
        "We would expect the ACF for the MA(k) process to show a strong correlation with recent values up to the lag of k, then a sharp decline to low or no correlation. By definition, this is how the process was generated.\n",
        "\n",
        "For the PACF, we would expect the plot to show a strong relationship to the lag and a trailing off of correlation from the lag onwards.\n",
        "\n",
        "Again, this is exactly the expectation of the ACF and PACF plots for an MA(k) process."
      ]
    },
    {
      "cell_type": "code",
      "metadata": {
        "id": "lMYoNf8j511r",
        "outputId": "305ccdfb-f356-4018-b321-8fe1e9ef9910",
        "colab": {
          "base_uri": "https://localhost:8080/",
          "height": 34
        }
      },
      "source": [
        "from matplotlib import pyplot\n",
        "plt.figure(figsize=(10,6))\n",
        "plt.style.use('fivethirtyeight')\n"
      ],
      "execution_count": 50,
      "outputs": [
        {
          "output_type": "display_data",
          "data": {
            "text/plain": [
              "<Figure size 720x432 with 0 Axes>"
            ]
          },
          "metadata": {
            "tags": []
          }
        }
      ]
    },
    {
      "cell_type": "code",
      "metadata": {
        "id": "yTAdfaVf4xyv",
        "outputId": "333824cd-aa9b-43b9-9597-ed0c7a4ea68e",
        "colab": {
          "base_uri": "https://localhost:8080/",
          "height": 357
        }
      },
      "source": [
        "from statsmodels.graphics.tsaplots import plot_acf, plot_pacf\n",
        "from matplotlib import pyplot\n",
        "plt.rcParams['figure.figsize'] = 10, 5\n",
        "plot_acf(df.returns)\n",
        "pyplot.show()"
      ],
      "execution_count": 51,
      "outputs": [
        {
          "output_type": "display_data",
          "data": {
            "image/png": "[encoded data removed]",
            "text/plain": [
              "<Figure size 720x360 with 1 Axes>"
            ]
          },
          "metadata": {
            "tags": []
          }
        }
      ]
    },
    {
      "cell_type": "code",
      "metadata": {
        "id": "VYG0pzaeGGqs",
        "outputId": "775e2a71-b2ea-4f07-ad8a-12b61879de31",
        "colab": {
          "base_uri": "https://localhost:8080/",
          "height": 363
        }
      },
      "source": [
        "from statsmodels.tsa.seasonal import seasonal_decompose\n",
        "from matplotlib import pyplot\n",
        "result = seasonal_decompose(df.returns, model='additive', freq=252)\n",
        "result.plot()\n",
        "pyplot.show()"
      ],
      "execution_count": 52,
      "outputs": [
        {
          "output_type": "display_data",
          "data": {
            "image/png": "[encoded data removed]",
            "text/plain": [
              "<Figure size 720x360 with 4 Axes>"
            ]
          },
          "metadata": {
            "tags": []
          }
        }
      ]
    },
    {
      "cell_type": "markdown",
      "metadata": {
        "id": "k6p2dPzPjZpv"
      },
      "source": [
        "### Dickey-Fuller GLS Testing\n",
        "The Dickey-Fuller GLS test is an improved version of the ADF which uses a GLS-detrending regression before running an ADF regression with no additional deterministic terms. This test is only available with a constant or constant and time trend (trend='c' or trend='ct').\n",
        "The results of this test agree with the ADF results."
      ]
    },
    {
      "cell_type": "code",
      "metadata": {
        "id": "_MYwyS1Mfu2O",
        "outputId": "056d33de-75b7-44d9-c932-eb431423381c",
        "colab": {
          "base_uri": "https://localhost:8080/"
        }
      },
      "source": [
        "from arch.unitroot import DFGLS\n",
        "dfgls = DFGLS(df.returns)\n",
        "print(dfgls.summary().as_text())"
      ],
      "execution_count": 53,
      "outputs": [
        {
          "output_type": "stream",
          "text": [
            "      Dickey-Fuller GLS Results      \n",
            "=====================================\n",
            "Test Statistic                -30.181\n",
            "P-value                         0.000\n",
            "Lags                                5\n",
            "-------------------------------------\n",
            "\n",
            "Trend: Constant\n",
            "Critical Values: -2.57 (1%), -1.95 (5%), -1.62 (10%)\n",
            "Null Hypothesis: The process contains a unit root.\n",
            "Alternative Hypothesis: The process is weakly stationary.\n"
          ],
          "name": "stdout"
        }
      ]
    },
    {
      "cell_type": "code",
      "metadata": {
        "id": "MyvjrKmKgC4h",
        "outputId": "f7ce6664-2d0b-4f95-b7e6-a1d04030d955",
        "colab": {
          "base_uri": "https://localhost:8080/"
        }
      },
      "source": [
        "dfgls.trend = 'ct'\n",
        "print(dfgls.summary().as_text())"
      ],
      "execution_count": 54,
      "outputs": [
        {
          "output_type": "stream",
          "text": [
            "      Dickey-Fuller GLS Results      \n",
            "=====================================\n",
            "Test Statistic                -28.487\n",
            "P-value                         0.000\n",
            "Lags                                5\n",
            "-------------------------------------\n",
            "\n",
            "Trend: Constant and Linear Time Trend\n",
            "Critical Values: -3.41 (1%), -2.85 (5%), -2.56 (10%)\n",
            "Null Hypothesis: The process contains a unit root.\n",
            "Alternative Hypothesis: The process is weakly stationary.\n"
          ],
          "name": "stdout"
        },
        {
          "output_type": "stream",
          "text": [
            "/usr/local/lib/python3.6/dist-packages/arch/unitroot/unitroot.py:979: FutureWarning: Mutating unit root tests is deprecated and will raise an error in the first release of arch 5.x after August 2020. Create new test objects to change test parametrization.\n",
            "\n",
            "  warnings.warn(MUTATING_WARNING, FutureWarning)\n"
          ],
          "name": "stderr"
        }
      ]
    },
    {
      "cell_type": "markdown",
      "metadata": {
        "id": "bxthOXIRj4GM"
      },
      "source": [
        "### Phillips-Perron Testing\n",
        "The Phillips-Perron test is similar to the ADF except that the regression run does not include lagged values of the first differences. Instead, the PP test fixed the t-statistic using a long run variance estimation, implemented using a Newey-West covariance estimator.\n",
        "By default, the number of lags is automatically set, although this can be overridden using lags.\n",
        "\n",
        "The null hypothesis of the Phillips-Perron (PP) test is that there is a unit root, with the alternative that there is no unit root. If the pvalue is above a critical size, then the null cannot be rejected that there and the series appears to be a unit root.\n",
        "Unlike the ADF test, the regression estimated includes only one lag of the dependant variable, in addition to trend terms. Any serial correlation in the regression errors is accounted for using a long-run variance estimator (currently Newey-West).\n",
        "The p-values are obtained through regression surface approximation from MacKinnon (1994) using the updated 2010 tables. If the p-value is close to significant, then the critical values should be used to judge whether to reject the null.\n",
        "- Phillips, P. C. B., and P. Perron. 1988. “Testing for a unit root in time series regression”. Biometrika 75, 335-346.\n",
        "- MacKinnon, J.G. 1994. “Approximate asymptotic distribution functions for unit-root and cointegration bootstrap”. Journal of Business and Economic Statistics. 12, 167-76."
      ]
    },
    {
      "cell_type": "code",
      "metadata": {
        "id": "xAIM7FmCkHI7",
        "outputId": "70c14e72-ef87-499c-fef5-ca5f9ed06459",
        "colab": {
          "base_uri": "https://localhost:8080/"
        }
      },
      "source": [
        "from arch.unitroot import PhillipsPerron\n",
        "\n",
        "pp = PhillipsPerron(df.returns)\n",
        "print(pp.summary().as_text())"
      ],
      "execution_count": 55,
      "outputs": [
        {
          "output_type": "stream",
          "text": [
            "     Phillips-Perron Test (Z-tau)    \n",
            "=====================================\n",
            "Test Statistic                -72.940\n",
            "P-value                         0.000\n",
            "Lags                               32\n",
            "-------------------------------------\n",
            "\n",
            "Trend: Constant\n",
            "Critical Values: -3.43 (1%), -2.86 (5%), -2.57 (10%)\n",
            "Null Hypothesis: The process contains a unit root.\n",
            "Alternative Hypothesis: The process is weakly stationary.\n"
          ],
          "name": "stdout"
        }
      ]
    },
    {
      "cell_type": "markdown",
      "metadata": {
        "id": "_-GUCulqj653"
      },
      "source": [
        "It is important that the number of lags is sufficient to pick up any dependence in the data."
      ]
    },
    {
      "cell_type": "code",
      "metadata": {
        "id": "s1ktq9y3kY5s",
        "outputId": "fc670f9d-9d93-448f-c895-d8b041ad4e8f",
        "colab": {
          "base_uri": "https://localhost:8080/"
        }
      },
      "source": [
        "pp.lags = 30\n",
        "print(pp.summary().as_text())"
      ],
      "execution_count": 56,
      "outputs": [
        {
          "output_type": "stream",
          "text": [
            "     Phillips-Perron Test (Z-tau)    \n",
            "=====================================\n",
            "Test Statistic                -72.946\n",
            "P-value                         0.000\n",
            "Lags                               30\n",
            "-------------------------------------\n",
            "\n",
            "Trend: Constant\n",
            "Critical Values: -3.43 (1%), -2.86 (5%), -2.57 (10%)\n",
            "Null Hypothesis: The process contains a unit root.\n",
            "Alternative Hypothesis: The process is weakly stationary.\n"
          ],
          "name": "stdout"
        },
        {
          "output_type": "stream",
          "text": [
            "/usr/local/lib/python3.6/dist-packages/arch/unitroot/unitroot.py:631: FutureWarning: Mutating unit root tests is deprecated and will raise an error in the first release of arch 5.x after August 2020. Create new test objects to change test parametrization.\n",
            "\n",
            "  warnings.warn(MUTATING_WARNING, FutureWarning)\n"
          ],
          "name": "stderr"
        }
      ]
    },
    {
      "cell_type": "code",
      "metadata": {
        "id": "KQesppDxki1a",
        "outputId": "f6916795-181b-4cfd-f366-c16c58474d2b",
        "colab": {
          "base_uri": "https://localhost:8080/"
        }
      },
      "source": [
        "pp.trend = 'ct'\n",
        "print(pp.summary().as_text())"
      ],
      "execution_count": 57,
      "outputs": [
        {
          "output_type": "stream",
          "text": [
            "     Phillips-Perron Test (Z-tau)    \n",
            "=====================================\n",
            "Test Statistic                -72.955\n",
            "P-value                         0.000\n",
            "Lags                               30\n",
            "-------------------------------------\n",
            "\n",
            "Trend: Constant and Linear Time Trend\n",
            "Critical Values: -3.96 (1%), -3.41 (5%), -3.13 (10%)\n",
            "Null Hypothesis: The process contains a unit root.\n",
            "Alternative Hypothesis: The process is weakly stationary.\n"
          ],
          "name": "stdout"
        },
        {
          "output_type": "stream",
          "text": [
            "/usr/local/lib/python3.6/dist-packages/arch/unitroot/unitroot.py:653: FutureWarning: Mutating unit root tests is deprecated and will raise an error in the first release of arch 5.x after August 2020. Create new test objects to change test parametrization.\n",
            "\n",
            "  warnings.warn(MUTATING_WARNING, FutureWarning)\n"
          ],
          "name": "stderr"
        }
      ]
    },
    {
      "cell_type": "code",
      "metadata": {
        "id": "MgfZhVklkxgC",
        "outputId": "99f2cafa-18c1-46f8-c576-c599757d0964",
        "colab": {
          "base_uri": "https://localhost:8080/"
        }
      },
      "source": [
        "pp.test_type = 'rho'\n",
        "print(pp.summary().as_text())"
      ],
      "execution_count": 58,
      "outputs": [
        {
          "output_type": "stream",
          "text": [
            "     Phillips-Perron Test (Z-rho)    \n",
            "=====================================\n",
            "Test Statistic              -5105.174\n",
            "P-value                         0.000\n",
            "Lags                               30\n",
            "-------------------------------------\n",
            "\n",
            "Trend: Constant and Linear Time Trend\n",
            "Critical Values: -29.31 (1%), -21.68 (5%), -18.23 (10%)\n",
            "Null Hypothesis: The process contains a unit root.\n",
            "Alternative Hypothesis: The process is weakly stationary.\n"
          ],
          "name": "stdout"
        },
        {
          "output_type": "stream",
          "text": [
            "/usr/local/lib/python3.6/dist-packages/arch/unitroot/unitroot.py:1202: FutureWarning: Mutating unit root tests is deprecated and will raise an error in the first release of arch 5.x after August 2020. Create new test objects to change test parametrization.\n",
            "\n",
            "  warnings.warn(MUTATING_WARNING, FutureWarning)\n"
          ],
          "name": "stderr"
        }
      ]
    },
    {
      "cell_type": "markdown",
      "metadata": {
        "id": "hCzCrwbmla1j"
      },
      "source": [
        "### Zivot-Andrews Test\n",
        "The Zivot-Andrews test allows the possibility of a single structural break in the series. Here we test the default using the test.\n",
        "\n",
        "H0 = unit root with a single structural break\n",
        "Algorithm follows Baum (2004/2015) approximation to original Zivot-Andrews method. Rather than performing an autolag regression at each candidate break period (as per the original paper), a single autolag regression is run up-front on the base model (constant + trend with no dummies) to determine the best lag length. This lag length is then used for all subsequent break-period regressions. This results in significant run time reduction but also slightly more pessimistic test statistics than the original Zivot-Andrews method,\n",
        "No attempt has been made to characterize the size/power trade-off.\n",
        "- Baum, C.F. (2004). ZANDREWS: Stata module to calculate Zivot-Andrews unit root test in presence of structural break,” Statistical Software Components S437301, Boston College Department of Economics, revised 2015.\n",
        "- Zivot, E., and Andrews, D.W.K. (1992). Further evidence on the great crash, the oil-price shock, and the unit-root hypothesis. Journal of Business & Economic Studies, 10: 251-270."
      ]
    },
    {
      "cell_type": "code",
      "metadata": {
        "id": "-QW405WklgEs",
        "outputId": "dabcf35c-9c5d-44b0-d76f-13152129141d",
        "colab": {
          "base_uri": "https://localhost:8080/"
        }
      },
      "source": [
        "from arch.unitroot import ZivotAndrews\n",
        "\n",
        "za = ZivotAndrews(df.returns)\n",
        "print(za.summary().as_text())"
      ],
      "execution_count": 59,
      "outputs": [
        {
          "output_type": "stream",
          "text": [
            "        Zivot-Andrews Results        \n",
            "=====================================\n",
            "Test Statistic                -30.290\n",
            "P-value                         0.000\n",
            "Lags                                5\n",
            "-------------------------------------\n",
            "\n",
            "Trend: Constant\n",
            "Critical Values: -5.28 (1%), -4.81 (5%), -4.57 (10%)\n",
            "Null Hypothesis: The process contains a unit root with a single structural break.\n",
            "Alternative Hypothesis: The process is trend and break stationary.\n"
          ],
          "name": "stdout"
        }
      ]
    },
    {
      "cell_type": "markdown",
      "metadata": {
        "id": "9C0byM7sluMH"
      },
      "source": [
        "### Variance Ratio Testing\n",
        "Variance ratio tests are not usually used as unit root tests, and are instead used for testing whether a financial return series is a pure random walk versus having some predictability. \n",
        "\n",
        "The variance ratio compares the variance of a 1-period return to that of a multi-period return. We have compared 1-month to 12-month returns, and the null that the series is a pure random walk is rejected. Negative values indicate some positive autocorrelation in the returns (momentum).\n",
        "\n",
        "The null hypothesis of a VR is that the process is a random walk, possibly plus drift. Rejection of the null with a positive test statistic indicates the presence of positive serial correlation in the time series."
      ]
    },
    {
      "cell_type": "code",
      "metadata": {
        "id": "Vj90kdWelwbY",
        "outputId": "f10cbb6c-ffd3-4936-d731-8292c7b0bdec",
        "colab": {
          "base_uri": "https://localhost:8080/"
        }
      },
      "source": [
        "from arch.unitroot import VarianceRatio\n",
        "vr = VarianceRatio(df.returns, 12)\n",
        "print(vr.summary().as_text())"
      ],
      "execution_count": 60,
      "outputs": [
        {
          "output_type": "stream",
          "text": [
            "     Variance-Ratio Test Results     \n",
            "=====================================\n",
            "Test Statistic                -11.197\n",
            "P-value                         0.000\n",
            "Lags                               12\n",
            "-------------------------------------\n",
            "\n",
            "Computed with overlapping blocks (de-biased)\n"
          ],
          "name": "stdout"
        }
      ]
    },
    {
      "cell_type": "code",
      "metadata": {
        "id": "8-Um-JiA6cTW",
        "outputId": "ef69e287-7d80-4ecb-bd5f-5f59e9cee4d7",
        "colab": {
          "base_uri": "https://localhost:8080/"
        }
      },
      "source": [
        "# Add a constant \n",
        "C = sm.add_constant(df.returns)\n",
        "# Construct the model\n",
        "model = sm.OLS(df.returns,C).fit()\n",
        "\n",
        "# Print the summary\n",
        "print(model.summary())"
      ],
      "execution_count": 61,
      "outputs": [
        {
          "output_type": "stream",
          "text": [
            "                            OLS Regression Results                            \n",
            "==============================================================================\n",
            "Dep. Variable:                returns   R-squared:                       1.000\n",
            "Model:                            OLS   Adj. R-squared:                  1.000\n",
            "Method:                 Least Squares   F-statistic:                 1.039e+35\n",
            "Date:                Wed, 11 Nov 2020   Prob (F-statistic):               0.00\n",
            "Time:                        08:47:43   Log-Likelihood:             1.8966e+05\n",
            "No. Observations:                4940   AIC:                        -3.793e+05\n",
            "Df Residuals:                    4938   BIC:                        -3.793e+05\n",
            "Df Model:                           1                                         \n",
            "Covariance Type:            nonrobust                                         \n",
            "==============================================================================\n",
            "                 coef    std err          t      P>|t|      [0.025      0.975]\n",
            "------------------------------------------------------------------------------\n",
            "const      -3.591e-19    7.3e-20     -4.917      0.000   -5.02e-19   -2.16e-19\n",
            "returns        1.0000    3.1e-18   3.22e+17      0.000       1.000       1.000\n",
            "==============================================================================\n",
            "Omnibus:                      527.286   Durbin-Watson:                   2.062\n",
            "Prob(Omnibus):                  0.000   Jarque-Bera (JB):             4398.828\n",
            "Skew:                           0.121   Prob(JB):                         0.00\n",
            "Kurtosis:                       7.616   Cond. No.                         42.5\n",
            "==============================================================================\n",
            "\n",
            "Warnings:\n",
            "[1] Standard Errors assume that the covariance matrix of the errors is correctly specified.\n"
          ],
          "name": "stdout"
        }
      ]
    },
    {
      "cell_type": "markdown",
      "metadata": {
        "id": "BRguyQz46zEq"
      },
      "source": [
        "## Heteroskedasticity Tests"
      ]
    },
    {
      "cell_type": "code",
      "metadata": {
        "id": "1RapBWzY61vp",
        "outputId": "665ccc7b-67ba-4082-a794-03ea0aa0ce1d",
        "colab": {
          "base_uri": "https://localhost:8080/"
        }
      },
      "source": [
        "from statsmodels.stats.diagnostic import het_breuschpagan\n",
        "from statsmodels.stats.diagnostic import het_white\n",
        "\n",
        "white_test = het_white(model.resid,  model.model.exog)\n",
        "print(white_test)"
      ],
      "execution_count": 62,
      "outputs": [
        {
          "output_type": "stream",
          "text": [
            "(4178.692435441434, 0.0, 13549.191886551474, 0.0)\n"
          ],
          "name": "stdout"
        }
      ]
    },
    {
      "cell_type": "markdown",
      "metadata": {
        "id": "hsSRwx2t7AEW"
      },
      "source": [
        "What we get are two test statistics and two p-values (textbooks prefer the LM test, but the F test is widely used and basically equivalent). Heteroskedasticity is indicated if p <0.05, so according to these tests, this model is heteroskedastic.\n",
        "\n",
        "### Getting Around the White Test’s Limitations\n",
        "There are two modifications to the White test we can make to deal with situations where the heteroskedasticity is not linear and the standard White test is impractical. Unfortunately, there are no modules for doing so automatically in python, but it is possible to do so manually.\n",
        "\n",
        " - First add the squared residuals to your data frame\n",
        " - Find the residuals squared, the predictions and the predictions squared, and put them into a data frame."
      ]
    },
    {
      "cell_type": "code",
      "metadata": {
        "id": "DrEBObq57G1f",
        "outputId": "762e034d-620c-4232-aa4a-728fdba2dbeb",
        "colab": {
          "base_uri": "https://localhost:8080/",
          "height": 446
        }
      },
      "source": [
        "from statsmodels.formula.api import ols\n",
        "df['resid2'] = model.resid**2\n",
        "predict = model.predict()\n",
        "predict2 = predict**2\n",
        "\n",
        "white_test = ols(formula='resid2~predict+predict2', data=df).fit()\n",
        "white_test.summary()"
      ],
      "execution_count": 63,
      "outputs": [
        {
          "output_type": "execute_result",
          "data": {
            "text/html": [
              "<table class=\"simpletable\">\n",
              "<caption>OLS Regression Results</caption>\n",
              "<tr>\n",
              "  <th>Dep. Variable:</th>         <td>resid2</td>      <th>  R-squared:         </th>  <td>   0.846</td> \n",
              "</tr>\n",
              "<tr>\n",
              "  <th>Model:</th>                   <td>OLS</td>       <th>  Adj. R-squared:    </th>  <td>   0.846</td> \n",
              "</tr>\n",
              "<tr>\n",
              "  <th>Method:</th>             <td>Least Squares</td>  <th>  F-statistic:       </th>  <td>1.355e+04</td>\n",
              "</tr>\n",
              "<tr>\n",
              "  <th>Date:</th>             <td>Wed, 11 Nov 2020</td> <th>  Prob (F-statistic):</th>   <td>  0.00</td>  \n",
              "</tr>\n",
              "<tr>\n",
              "  <th>Time:</th>                 <td>08:47:43</td>     <th>  Log-Likelihood:    </th> <td>3.8627e+05</td>\n",
              "</tr>\n",
              "<tr>\n",
              "  <th>No. Observations:</th>      <td>  4940</td>      <th>  AIC:               </th> <td>-7.725e+05</td>\n",
              "</tr>\n",
              "<tr>\n",
              "  <th>Df Residuals:</th>          <td>  4937</td>      <th>  BIC:               </th> <td>-7.725e+05</td>\n",
              "</tr>\n",
              "<tr>\n",
              "  <th>Df Model:</th>              <td>     2</td>      <th>                     </th>      <td> </td>    \n",
              "</tr>\n",
              "<tr>\n",
              "  <th>Covariance Type:</th>      <td>nonrobust</td>    <th>                     </th>      <td> </td>    \n",
              "</tr>\n",
              "</table>\n",
              "<table class=\"simpletable\">\n",
              "<tr>\n",
              "      <td></td>         <th>coef</th>     <th>std err</th>      <th>t</th>      <th>P>|t|</th>  <th>[0.025</th>    <th>0.975]</th>  \n",
              "</tr>\n",
              "<tr>\n",
              "  <th>Intercept</th> <td> 9.983e-37</td> <td> 4.09e-37</td> <td>    2.441</td> <td> 0.015</td> <td> 1.97e-37</td> <td>  1.8e-36</td>\n",
              "</tr>\n",
              "<tr>\n",
              "  <th>predict</th>   <td>-3.495e-35</td> <td> 1.61e-35</td> <td>   -2.170</td> <td> 0.030</td> <td>-6.65e-35</td> <td>-3.38e-36</td>\n",
              "</tr>\n",
              "<tr>\n",
              "  <th>predict2</th>  <td> 4.575e-32</td> <td> 2.78e-34</td> <td>  164.355</td> <td> 0.000</td> <td> 4.52e-32</td> <td> 4.63e-32</td>\n",
              "</tr>\n",
              "</table>\n",
              "<table class=\"simpletable\">\n",
              "<tr>\n",
              "  <th>Omnibus:</th>       <td>2975.133</td> <th>  Durbin-Watson:     </th>  <td>   2.046</td>  \n",
              "</tr>\n",
              "<tr>\n",
              "  <th>Prob(Omnibus):</th>  <td> 0.000</td>  <th>  Jarque-Bera (JB):  </th> <td>1924404.460</td>\n",
              "</tr>\n",
              "<tr>\n",
              "  <th>Skew:</th>           <td> 1.505</td>  <th>  Prob(JB):          </th>  <td>    0.00</td>  \n",
              "</tr>\n",
              "<tr>\n",
              "  <th>Kurtosis:</th>       <td>99.645</td>  <th>  Cond. No.          </th>  <td>    735.</td>  \n",
              "</tr>\n",
              "</table><br/><br/>Warnings:<br/>[1] Standard Errors assume that the covariance matrix of the errors is correctly specified."
            ],
            "text/plain": [
              "<class 'statsmodels.iolib.summary.Summary'>\n",
              "\"\"\"\n",
              "                            OLS Regression Results                            \n",
              "==============================================================================\n",
              "Dep. Variable:                 resid2   R-squared:                       0.846\n",
              "Model:                            OLS   Adj. R-squared:                  0.846\n",
              "Method:                 Least Squares   F-statistic:                 1.355e+04\n",
              "Date:                Wed, 11 Nov 2020   Prob (F-statistic):               0.00\n",
              "Time:                        08:47:43   Log-Likelihood:             3.8627e+05\n",
              "No. Observations:                4940   AIC:                        -7.725e+05\n",
              "Df Residuals:                    4937   BIC:                        -7.725e+05\n",
              "Df Model:                           2                                         \n",
              "Covariance Type:            nonrobust                                         \n",
              "==============================================================================\n",
              "                 coef    std err          t      P>|t|      [0.025      0.975]\n",
              "------------------------------------------------------------------------------\n",
              "Intercept   9.983e-37   4.09e-37      2.441      0.015    1.97e-37     1.8e-36\n",
              "predict    -3.495e-35   1.61e-35     -2.170      0.030   -6.65e-35   -3.38e-36\n",
              "predict2    4.575e-32   2.78e-34    164.355      0.000    4.52e-32    4.63e-32\n",
              "==============================================================================\n",
              "Omnibus:                     2975.133   Durbin-Watson:                   2.046\n",
              "Prob(Omnibus):                  0.000   Jarque-Bera (JB):          1924404.460\n",
              "Skew:                           1.505   Prob(JB):                         0.00\n",
              "Kurtosis:                      99.645   Cond. No.                         735.\n",
              "==============================================================================\n",
              "\n",
              "Warnings:\n",
              "[1] Standard Errors assume that the covariance matrix of the errors is correctly specified.\n",
              "\"\"\""
            ]
          },
          "metadata": {
            "tags": []
          },
          "execution_count": 63
        }
      ]
    },
    {
      "cell_type": "markdown",
      "metadata": {
        "id": "J2j1aTD67WVo"
      },
      "source": [
        "F test 0.00 for both the cases indicate the data is not homoskedastic."
      ]
    },
    {
      "cell_type": "code",
      "metadata": {
        "id": "YU5BJy2T7Vgy",
        "outputId": "2be7b0be-bdd6-46c8-c0ef-ce8b6e5e0e2c",
        "colab": {
          "base_uri": "https://localhost:8080/"
        }
      },
      "source": [
        "pip install hurst"
      ],
      "execution_count": 64,
      "outputs": [
        {
          "output_type": "stream",
          "text": [
            "Collecting hurst\n",
            "  Downloading https://files.pythonhosted.org/packages/02/4f/d3471ce0dca03a21d4c6640da07a6040c9cc800a937233086b6cea6a7dc2/hurst-0.0.5-py3-none-any.whl\n",
            "Requirement already satisfied: numpy>=1.10 in /usr/local/lib/python3.6/dist-packages (from hurst) (1.18.5)\n",
            "Requirement already satisfied: pandas>=0.18 in /usr/local/lib/python3.6/dist-packages (from hurst) (1.1.4)\n",
            "Requirement already satisfied: python-dateutil>=2.7.3 in /usr/local/lib/python3.6/dist-packages (from pandas>=0.18->hurst) (2.8.1)\n",
            "Requirement already satisfied: pytz>=2017.2 in /usr/local/lib/python3.6/dist-packages (from pandas>=0.18->hurst) (2018.9)\n",
            "Requirement already satisfied: six>=1.5 in /usr/local/lib/python3.6/dist-packages (from python-dateutil>=2.7.3->pandas>=0.18->hurst) (1.15.0)\n",
            "Installing collected packages: hurst\n",
            "Successfully installed hurst-0.0.5\n"
          ],
          "name": "stdout"
        }
      ]
    },
    {
      "cell_type": "markdown",
      "metadata": {
        "id": "3eSOU-Npy2dg"
      },
      "source": [
        "The Hurst exponent, H, measures the long-term memory of a time series, characterising it as either mean-reverting, trending or a random walk. \n",
        "\n",
        "H is a number between 0 and 1, with \n",
        "- H < 0.5 indicating mean reversion, \n",
        "- H > 0.5 indicating a trending time series and \n",
        "- H = 0.5 indicating a random walk. \n",
        "\n",
        "Smaller and larger values of H indicate stronger mean-reversion and trending, respectively."
      ]
    },
    {
      "cell_type": "code",
      "metadata": {
        "id": "gFjNRFh0x37h"
      },
      "source": [
        "from numpy import *\n",
        "from pylab import plot, show"
      ],
      "execution_count": 65,
      "outputs": []
    },
    {
      "cell_type": "code",
      "metadata": {
        "id": "tLktIsBB42Zs",
        "outputId": "f62005fa-3089-4405-dad9-e185081522bf",
        "colab": {
          "base_uri": "https://localhost:8080/",
          "height": 420
        }
      },
      "source": [
        "# calculate Hurst\n",
        "lag1 = 2\n",
        "lags = range(lag1, 20)\n",
        "tau = [sqrt(std(subtract(df.Price[lag:], df.Price[:-lag]))) for lag in lags]\n",
        "plot(log(lags), log(tau)); show()\n",
        "m = polyfit(log(lags), log(tau), 1)\n",
        "hurst = m[0]*2\n",
        "print ('hurst = ',hurst)"
      ],
      "execution_count": 66,
      "outputs": [
        {
          "output_type": "stream",
          "text": [
            "/usr/local/lib/python3.6/dist-packages/ipykernel_launcher.py:5: RuntimeWarning: divide by zero encountered in log\n",
            "  \"\"\"\n"
          ],
          "name": "stderr"
        },
        {
          "output_type": "display_data",
          "data": {
            "image/png": "[encoded data removed]",
            "text/plain": [
              "<Figure size 720x360 with 1 Axes>"
            ]
          },
          "metadata": {
            "tags": []
          }
        },
        {
          "output_type": "stream",
          "text": [
            "hurst =  nan\n"
          ],
          "name": "stdout"
        },
        {
          "output_type": "stream",
          "text": [
            "/usr/local/lib/python3.6/dist-packages/ipykernel_launcher.py:6: RuntimeWarning: divide by zero encountered in log\n",
            "  \n"
          ],
          "name": "stderr"
        }
      ]
    },
    {
      "cell_type": "markdown",
      "metadata": {
        "id": "LIt5wdhQyIz6"
      },
      "source": [
        "When we calculate Hurst we get a value of roughly  0.5015, which tells us that our series random walk."
      ]
    },
    {
      "cell_type": "code",
      "metadata": {
        "id": "x7fRyopjzXbz",
        "outputId": "da26660e-3fc5-4f29-c9a4-890055ce34b5",
        "colab": {
          "base_uri": "https://localhost:8080/",
          "height": 739
        }
      },
      "source": [
        "closes_recent = df.Price[-2000:]\n",
        "plot(closes_recent); show()\n",
        "# calculate Hurst of recent prices\n",
        "lag1 = 2\n",
        "lags = range(lag1, 20)\n",
        "tau = [sqrt(std(subtract(closes_recent[lag:], closes_recent[:-lag]))) for lag in lags]\n",
        "plot(log(lags), log(tau)); show()\n",
        "m = polyfit(log(lags), log(tau), 1)\n",
        "hurst = m[0]*2\n",
        "print ('hurst = ',hurst)"
      ],
      "execution_count": 67,
      "outputs": [
        {
          "output_type": "display_data",
          "data": {
            "image/png": "[encoded data removed]",
            "text/plain": [
              "<Figure size 720x360 with 1 Axes>"
            ]
          },
          "metadata": {
            "tags": []
          }
        },
        {
          "output_type": "stream",
          "text": [
            "/usr/local/lib/python3.6/dist-packages/ipykernel_launcher.py:7: RuntimeWarning: divide by zero encountered in log\n",
            "  import sys\n"
          ],
          "name": "stderr"
        },
        {
          "output_type": "display_data",
          "data": {
            "image/png": "[encoded data removed]",
            "text/plain": [
              "<Figure size 720x360 with 1 Axes>"
            ]
          },
          "metadata": {
            "tags": []
          }
        },
        {
          "output_type": "stream",
          "text": [
            "/usr/local/lib/python3.6/dist-packages/ipykernel_launcher.py:8: RuntimeWarning: divide by zero encountered in log\n",
            "  \n"
          ],
          "name": "stderr"
        },
        {
          "output_type": "stream",
          "text": [
            "hurst =  nan\n"
          ],
          "name": "stdout"
        }
      ]
    },
    {
      "cell_type": "code",
      "metadata": {
        "id": "llOdCUl8yHjG"
      },
      "source": [
        ""
      ],
      "execution_count": 67,
      "outputs": []
    },
    {
      "cell_type": "code",
      "metadata": {
        "id": "tcbjrz7R7g7M",
        "outputId": "0f6fc31f-6c69-4a5f-b501-f96240659195",
        "colab": {
          "base_uri": "https://localhost:8080/",
          "height": 363
        }
      },
      "source": [
        "from hurst import compute_Hc, random_walk\n",
        "import seaborn as sns\n",
        "sns.set();\n",
        "%matplotlib inline\n",
        "\n",
        "np.random.seed(42)\n",
        "random_changes = 1. + np.random.randn(4940) / 1000.\n",
        "returns = np.cumprod(random_changes)  \n",
        "H, c, result = compute_Hc(df.Price, kind='price', simplified=True)\n",
        "\n",
        "\n",
        "plt.rcParams['figure.figsize'] = 10, 5\n",
        "f, ax = plt.subplots()\n",
        "_ = ax.plot(result[0], c*result[0]**H)\n",
        "_ = ax.scatter(result[0], result[1])\n",
        "_ = ax.set_xscale('log')\n",
        "_ = ax.set_yscale('log')\n",
        "_ = ax.set_xlabel('log(time interval)')\n",
        "_ = ax.set_ylabel('log(R/S ratio)')\n",
        "\n",
        "print(\"H={:.3f}, c={:.3f}\".format(H,c))"
      ],
      "execution_count": 68,
      "outputs": [
        {
          "output_type": "stream",
          "text": [
            "H=0.708, c=0.728\n"
          ],
          "name": "stdout"
        },
        {
          "output_type": "display_data",
          "data": {
            "image/png": "[encoded data removed]",
            "text/plain": [
              "<Figure size 720x360 with 1 Axes>"
            ]
          },
          "metadata": {
            "tags": [],
            "needs_background": "light"
          }
        }
      ]
    },
    {
      "cell_type": "code",
      "metadata": {
        "id": "lN-BRzDy813F",
        "outputId": "9db3a896-89eb-4cb6-b7f1-0f8ba7d7724c",
        "colab": {
          "base_uri": "https://localhost:8080/",
          "height": 406
        }
      },
      "source": [
        "from numpy import *\n",
        "from pylab import plot, show\n",
        "# first, create an arbitrary time series, ts\n",
        "\n",
        "# calculate standard deviation of differenced series using various lags\n",
        "lags = range(2, 20)\n",
        "tau = [sqrt(std(subtract(df.returns[lag:], df.returns[:-lag]))) for lag in lags]\n",
        "# plot on log-log scale\n",
        "plot(log(lags), log(tau)); show()\n",
        "# calculate Hurst as slope of log-log plot\n",
        "m = polyfit(log(lags), log(tau), 1)\n",
        "hurst = m[0]*2.0\n",
        "print ('hurst = ',hurst)"
      ],
      "execution_count": 69,
      "outputs": [
        {
          "output_type": "stream",
          "text": [
            "/usr/local/lib/python3.6/dist-packages/ipykernel_launcher.py:9: RuntimeWarning: divide by zero encountered in log\n",
            "  if __name__ == '__main__':\n"
          ],
          "name": "stderr"
        },
        {
          "output_type": "display_data",
          "data": {
            "image/png": "[encoded data removed]",
            "text/plain": [
              "<Figure size 720x360 with 1 Axes>"
            ]
          },
          "metadata": {
            "tags": [],
            "needs_background": "light"
          }
        },
        {
          "output_type": "stream",
          "text": [
            "hurst =  nan\n"
          ],
          "name": "stdout"
        },
        {
          "output_type": "stream",
          "text": [
            "/usr/local/lib/python3.6/dist-packages/ipykernel_launcher.py:11: RuntimeWarning: divide by zero encountered in log\n",
            "  # This is added back by InteractiveShellApp.init_path()\n"
          ],
          "name": "stderr"
        }
      ]
    },
    {
      "cell_type": "code",
      "metadata": {
        "id": "Gl_de4gewe0U"
      },
      "source": [
        "import math\n",
        "from math import *\n"
      ],
      "execution_count": 71,
      "outputs": []
    },
    {
      "cell_type": "code",
      "metadata": {
        "id": "lLR_lZGWhme8"
      },
      "source": [
        "from numpy import *\n",
        "from pylab import plot, show\n",
        "# first, create an arbitrary time series, ts\n",
        "ts = [0]\n",
        "for i in range(1,4940):\n",
        "    ts.append(ts[i-1]*1.0 + random.randn())\n",
        "# calculate Hurst\n",
        "lag1 = 2\n",
        "lags = range(lag1, 20)\n",
        "tau = [sqrt(std(subtract(df.returns[lag:], df.returns[:-lag]))) for lag in lags]\n",
        "# plot on log-log scale\n",
        "plot(log(lags), log(tau)); show()\n",
        "# calculate Hurst as slope of log-log plot\n",
        "# Use a linear fit to estimate the Hurst Exponent\n",
        "m = polyfit(log(lags), log(tau), 1)\n",
        "hurst = m[0]*2.0\n",
        "print 'hurst = ',hurst"
      ],
      "execution_count": null,
      "outputs": []
    },
    {
      "cell_type": "code",
      "metadata": {
        "id": "zHOn5ai7uLhQ",
        "outputId": "023b4414-bf0e-43e1-ad02-bf1815b97c42",
        "colab": {
          "base_uri": "https://localhost:8080/",
          "height": 313
        }
      },
      "source": [
        "mu = 0.75\n",
        "theta = 0.04\n",
        "sigma = 0.05\n",
        "for i in range(1,4940):\n",
        "  dts  = (mu - df.returns[i-1])*theta + random.randn()*sigma\n",
        "  df.returns[i] = df.returns[i-1] + dts\n",
        "# calculate Hurst\n",
        "lag1 = 2\n",
        "lags = range(lag1, 20)\n",
        "tau = [sqrt(std(subtract(df.returns[lag:], df.returns[:-lag]))) for lag in lags]\n",
        "plot(log(lags), log(tau)); show()\n",
        "# Use a linear fit to estimate the Hurst Exponent\n",
        "m = polyfit(log(lags), log(tau), 1)\n",
        "hurst = m[0]*2\n",
        "print ('hurst = ',hurst)"
      ],
      "execution_count": 80,
      "outputs": [
        {
          "output_type": "stream",
          "text": [
            "/usr/local/lib/python3.6/dist-packages/ipykernel_launcher.py:6: SettingWithCopyWarning: \n",
            "A value is trying to be set on a copy of a slice from a DataFrame\n",
            "\n",
            "See the caveats in the documentation: https://pandas.pydata.org/pandas-docs/stable/user_guide/indexing.html#returning-a-view-versus-a-copy\n",
            "  \n"
          ],
          "name": "stderr"
        },
        {
          "output_type": "error",
          "ename": "TypeError",
          "evalue": "ignored",
          "traceback": [
            "\u001b[0;31m---------------------------------------------------------------------------\u001b[0m",
            "\u001b[0;31mTypeError\u001b[0m                                 Traceback (most recent call last)",
            "\u001b[0;32m<ipython-input-80-db1ffb944aaa>\u001b[0m in \u001b[0;36m<module>\u001b[0;34m()\u001b[0m\n\u001b[1;32m     11\u001b[0m \u001b[0;31m#plot(log(lags), log(tau)); show()\u001b[0m\u001b[0;34m\u001b[0m\u001b[0;34m\u001b[0m\u001b[0;34m\u001b[0m\u001b[0m\n\u001b[1;32m     12\u001b[0m \u001b[0;31m# Use a linear fit to estimate the Hurst Exponent\u001b[0m\u001b[0;34m\u001b[0m\u001b[0;34m\u001b[0m\u001b[0;34m\u001b[0m\u001b[0m\n\u001b[0;32m---> 13\u001b[0;31m \u001b[0mm\u001b[0m \u001b[0;34m=\u001b[0m \u001b[0mpolyfit\u001b[0m\u001b[0;34m(\u001b[0m\u001b[0mlog\u001b[0m\u001b[0;34m(\u001b[0m\u001b[0mlags\u001b[0m\u001b[0;34m)\u001b[0m\u001b[0;34m,\u001b[0m \u001b[0mlog\u001b[0m\u001b[0;34m(\u001b[0m\u001b[0mtau\u001b[0m\u001b[0;34m)\u001b[0m\u001b[0;34m,\u001b[0m \u001b[0;36m1\u001b[0m\u001b[0;34m)\u001b[0m\u001b[0;34m\u001b[0m\u001b[0;34m\u001b[0m\u001b[0m\n\u001b[0m\u001b[1;32m     14\u001b[0m \u001b[0mhurst\u001b[0m \u001b[0;34m=\u001b[0m \u001b[0mm\u001b[0m\u001b[0;34m[\u001b[0m\u001b[0;36m0\u001b[0m\u001b[0;34m]\u001b[0m\u001b[0;34m*\u001b[0m\u001b[0;36m2\u001b[0m\u001b[0;34m\u001b[0m\u001b[0;34m\u001b[0m\u001b[0m\n\u001b[1;32m     15\u001b[0m \u001b[0mprint\u001b[0m \u001b[0;34m(\u001b[0m\u001b[0;34m'hurst = '\u001b[0m\u001b[0;34m,\u001b[0m\u001b[0mhurst\u001b[0m\u001b[0;34m)\u001b[0m\u001b[0;34m\u001b[0m\u001b[0;34m\u001b[0m\u001b[0m\n",
            "\u001b[0;31mTypeError\u001b[0m: must be real number, not range"
          ]
        }
      ]
    },
    {
      "cell_type": "markdown",
      "metadata": {
        "id": "o2O-Gihz7mAC"
      },
      "source": [
        "In the plot above, the Hurst exponent is estimated to be around 0.53 which approximately corresponds to a random walk."
      ]
    },
    {
      "cell_type": "code",
      "metadata": {
        "id": "bBUJowqx9nnA"
      },
      "source": [
        "pd.core.common.is_list_like = pd.api.types.is_list_like\n",
        "import matplotlib.pyplot as plt\n",
        "from numpy import cumsum, log, polyfit, sqrt, std, subtract\n",
        "from datetime import datetime\n",
        "import time"
      ],
      "execution_count": 81,
      "outputs": []
    },
    {
      "cell_type": "code",
      "metadata": {
        "id": "zGQWph8A-gGz"
      },
      "source": [
        "pip install PyRQA"
      ],
      "execution_count": null,
      "outputs": []
    },
    {
      "cell_type": "code",
      "metadata": {
        "id": "sT_obcJY-qCa"
      },
      "source": [
        "from pyrqa.time_series import TimeSeries\n",
        "from pyrqa.settings import Settings\n",
        "from pyrqa.computing_type import ComputingType\n",
        "from pyrqa.neighbourhood import FixedRadius\n",
        "from pyrqa.metric import EuclideanMetric\n",
        "from pyrqa.computation import RQAComputation\n",
        "\n",
        "time_series = TimeSeries(df.Price,\n",
        "                         embedding_dimension=2,\n",
        "                         time_delay=2)\n",
        "settings = Settings(time_series,\n",
        "                    computing_type=ComputingType.Classic,\n",
        "                    neighbourhood=FixedRadius(0.65),\n",
        "                    similarity_measure=EuclideanMetric,\n",
        "                    theiler_corrector=1)\n",
        "computation = RQAComputation.create(settings,\n",
        "                                    verbose=True)\n",
        "result = computation.run()\n",
        "result.min_diagonal_line_length = 2\n",
        "result.min_vertical_line_length = 2\n",
        "result.min_white_vertical_line_lelngth = 2\n",
        "print(result)"
      ],
      "execution_count": null,
      "outputs": []
    },
    {
      "cell_type": "code",
      "metadata": {
        "id": "EB4F6n9xPTEH"
      },
      "source": [
        "pip install arch"
      ],
      "execution_count": null,
      "outputs": []
    },
    {
      "cell_type": "code",
      "metadata": {
        "id": "jvS-NUqBtWC3"
      },
      "source": [
        "X = 100* df.returns"
      ],
      "execution_count": null,
      "outputs": []
    },
    {
      "cell_type": "code",
      "metadata": {
        "id": "e2HK0KBXRpmd"
      },
      "source": [
        "from sklearn.model_selection import train_test_split\n",
        "# Split the data into 80% training and 20% testing\n",
        "\n",
        "X1_train,X1_test = train_test_split(X, test_size=0.05)\n",
        "print('length of X1_train and X1_test: ', len(X1_train), len(X1_test))"
      ],
      "execution_count": null,
      "outputs": []
    },
    {
      "cell_type": "markdown",
      "metadata": {
        "id": "XitWq2T2tMoy"
      },
      "source": [
        "It is always a good idea to scale return by 100 before estimating ARCH-type models. This helps the optimizer converse since the scale of the volatility intercept is much closer to the scale of the other parameters in the model."
      ]
    },
    {
      "cell_type": "code",
      "metadata": {
        "id": "aCnBUVFUNodc"
      },
      "source": [
        "from statsmodels.tsa.ar_model import AR\n",
        "\n",
        "# contrived dataset\n",
        "data = X\n",
        "# fit model\n",
        "model = AR(data)\n",
        "model_fit = model.fit()\n",
        "# make prediction\n",
        "yhat = model_fit.predict(len(data), len(data))\n",
        "print(yhat)"
      ],
      "execution_count": null,
      "outputs": []
    },
    {
      "cell_type": "code",
      "metadata": {
        "id": "7vSt16CS5_xz"
      },
      "source": [
        "#Y = df.returns"
      ],
      "execution_count": null,
      "outputs": []
    },
    {
      "cell_type": "code",
      "metadata": {
        "id": "pZfRPHZvt5_s"
      },
      "source": [
        "from statsmodels.tsa.ar_model import AR\n",
        "from sklearn.metrics import mean_squared_error\n",
        "# train autoregression\n",
        "model = AR(X)\n",
        "model_fit = model.fit()\n",
        "print('Lag: %s' % model_fit.k_ar)\n",
        "print('Coefficients: %s' % model_fit.params)"
      ],
      "execution_count": null,
      "outputs": []
    },
    {
      "cell_type": "code",
      "metadata": {
        "id": "qkLmD-ZYPnm-"
      },
      "source": [
        "from sklearn import preprocessing\n",
        "\n",
        "# Using feature in sklearn, preposessing to scale features\n",
        "#X1 = preprocessing.scale(X1_train)"
      ],
      "execution_count": null,
      "outputs": []
    },
    {
      "cell_type": "markdown",
      "metadata": {
        "id": "fyTrMfkCxqXQ"
      },
      "source": [
        "Now apply the procedure to a Crude Oil time series. Here we’re going to use daily returns. The process is as follows:\n",
        "- Iterate through combinations of ARIMA(p, d, q) models to best fit our time series.\n",
        "- Pick the GARCH model orders according to the ARIMA model with lowest AIC.\n",
        "- Fit the GARCH(p, q) model to our time series.\n",
        "- Examine the model residuals and squared residuals for autocorrelation"
      ]
    },
    {
      "cell_type": "code",
      "metadata": {
        "id": "_2KFKRUk9qSR"
      },
      "source": [
        "def _get_best_model(TS):\n",
        "    best_aic = np.inf \n",
        "    best_order = None\n",
        "    best_mdl = None\n",
        "    pq_rng = range(5) # [0,1,2,3,4,5]\n",
        "    d_rng = range(2) # [0,1]\n",
        "    for i in pq_rng:\n",
        "        for d in d_rng:\n",
        "            for j in pq_rng:\n",
        "                try:\n",
        "                    tmp_mdl = smt.ARIMA(TS, order=(i,d,j)).fit(\n",
        "                        method='mle', trend='nc'\n",
        "                    )\n",
        "                    tmp_aic = tmp_mdl.aic\n",
        "                    if tmp_aic < best_aic:\n",
        "                        best_aic = tmp_aic\n",
        "                        best_order = (i, d, j)\n",
        "                        best_mdl = tmp_mdl\n",
        "                except: continue\n",
        "    print('aic: {:6.2f} | order: {}'.format(best_aic, best_order))                    \n",
        "    return best_aic, best_order, best_mdl\n",
        "  \n",
        "TS = X\n",
        "res_tup = _get_best_model(TS)\n",
        "\n",
        "#aic: 22462.01 | order: (2, 0, 2)"
      ],
      "execution_count": null,
      "outputs": []
    },
    {
      "cell_type": "markdown",
      "metadata": {
        "id": "pX-ICu37_dw5"
      },
      "source": [
        "We find the best model is ARIMA(2,0,2). Now we plot the residuals to decide if they possess evidence of conditional heteroskedastic behaviour"
      ]
    },
    {
      "cell_type": "code",
      "metadata": {
        "id": "npUMd-PZ_vWN"
      },
      "source": [
        "Order = res_tup[1]\n",
        "Model = res_tup[2]"
      ],
      "execution_count": null,
      "outputs": []
    },
    {
      "cell_type": "code",
      "metadata": {
        "id": "3ikEApZO_2DV"
      },
      "source": [
        "tsplot(Model.resid)"
      ],
      "execution_count": null,
      "outputs": []
    },
    {
      "cell_type": "markdown",
      "metadata": {
        "id": "SyZj5p-bAQqR"
      },
      "source": [
        "We find the residuals look like white noise. Let’s look at the square of residuals"
      ]
    },
    {
      "cell_type": "code",
      "metadata": {
        "id": "upoox4LeAWZw"
      },
      "source": [
        "tsplot(Model.resid**2, lags=30)"
      ],
      "execution_count": null,
      "outputs": []
    },
    {
      "cell_type": "markdown",
      "metadata": {
        "id": "Liv_K9LnyLrM"
      },
      "source": [
        "We can see clear evidence of autocorrelation in squared residuals. Let’s fit a GARCH model and see how it does.\n",
        "### Generalized Autoregressive Conditionally Heteroskedastic Models — GARCH(p,q)\n",
        "It is always a good idea to scale return by 100 before estimating ARCH-type models. This helps the optimizer converse since the scale of the volatility intercept is much closer to the scale of the other parameters in the model.\n",
        "\n",
        "## Building a Model From Components\n",
        "Models can also be systematically assembled from the three model components:\n",
        "- A mean model (arch.mean)\n",
        "    - Autoregressive (ARX) with optional exogenous regressors\n",
        "- A volatility process (arch.volatility)\n",
        "    - ARCH (ARCH)\n",
        "    - GARCH (GARCH)\n",
        "    - GJR-GARCH (GARCH using o argument)\n",
        "    - TARCH/ZARCH (GARCH using power argument set to 1)\n",
        "- A distribution (arch.distribution)\n",
        "    - Normal (Normal)\n",
        "    - Standardized Students’s T (StudentsT)\n",
        "\n",
        "## Autoregressive\n"
      ]
    },
    {
      "cell_type": "code",
      "metadata": {
        "id": "xrcxoDpViGp3"
      },
      "source": [
        "pip install arch"
      ],
      "execution_count": null,
      "outputs": []
    },
    {
      "cell_type": "code",
      "metadata": {
        "id": "rXeJZQvRH29M"
      },
      "source": [
        "from arch.univariate import ARX\n",
        "\n",
        "arx = ARX(X)\n",
        "print(arx.fit().summary())"
      ],
      "execution_count": null,
      "outputs": []
    },
    {
      "cell_type": "markdown",
      "metadata": {
        "id": "vOZ1prsrMI62"
      },
      "source": [
        "### Volatility Processes\n",
        "Volatility processes can be added a a mean model using the volatility property. This example adds an ARCH(5) process to model volatility. The arguments iter and disp are used in fit() to suppress estimation output."
      ]
    },
    {
      "cell_type": "code",
      "metadata": {
        "id": "952VRLdEIig6"
      },
      "source": [
        "from arch.univariate import ARCH, GARCH\n",
        "arx.volatility = ARCH(p=5)\n",
        "vres = arx.fit(update_freq=5, disp='off')\n",
        "print(vres.summary())"
      ],
      "execution_count": null,
      "outputs": []
    },
    {
      "cell_type": "code",
      "metadata": {
        "id": "_LgsjJ2hJucU"
      },
      "source": [
        "plt.rcParams['figure.figsize'] = 10, 5\n",
        "fig = vres.plot()"
      ],
      "execution_count": null,
      "outputs": []
    },
    {
      "cell_type": "markdown",
      "metadata": {
        "id": "4MavvTgAMb2E"
      },
      "source": [
        "Plotting the standardized residuals and the conditional volatility shows some large (in magnitude) errors, even when standardized."
      ]
    },
    {
      "cell_type": "markdown",
      "metadata": {
        "id": "WZbZjEIBMvXB"
      },
      "source": [
        "### Distributions\n",
        "Finally the distribution can be changed from the default normal to a standardized Student’s T using the distribution property of a mean model.\n",
        "\n",
        "The Student’s t distribution improves the model, and the degree of freedom is estimated to be near 8."
      ]
    },
    {
      "cell_type": "code",
      "metadata": {
        "id": "C6g3CcwqNClR"
      },
      "source": [
        "from arch.univariate import StudentsT\n",
        "\n",
        "arx.distribution = StudentsT()\n",
        "res = arx.fit(update_freq=5, disp='off')\n",
        "print(res.summary())"
      ],
      "execution_count": null,
      "outputs": []
    },
    {
      "cell_type": "markdown",
      "metadata": {
        "id": "-l9P-y_vQYyV"
      },
      "source": [
        "We can see that the true parameters all fall within the respective 95% confidence intervals.\n",
        "\n",
        "Three models are fit using alternative distributional assumptions. The results are printed, where we can see that the normal has a lower log-likelihood than either the Standard Student’s T or the Standardized Skew Student’s T – however, these three are fairly close. The closeness of the T and the Skew T indicate that returns are not heavily skewed."
      ]
    },
    {
      "cell_type": "code",
      "metadata": {
        "id": "thVg0QtdQQ4W"
      },
      "source": [
        "from arch import arch_model\n",
        "from collections import OrderedDict\n",
        "\n",
        "crude_ret = X\n",
        "res_normal = arch_model(crude_ret).fit(disp='off')\n",
        "res_t = arch_model(crude_ret, dist='t').fit(disp='off')\n",
        "res_skewt = arch_model(crude_ret, dist='skewt').fit(disp='off')\n",
        "lls = pd.Series(\n",
        "    OrderedDict((('normal', res_normal.loglikelihood),\n",
        "                 ('t', res_t.loglikelihood), ('skewt',\n",
        "                                              res_skewt.loglikelihood))))\n",
        "print(lls)\n",
        "params = pd.DataFrame(\n",
        "    OrderedDict((('normal', res_normal.params), ('t', res_t.params),\n",
        "                 ('skewt', res_skewt.params))))\n",
        "print(params)"
      ],
      "execution_count": null,
      "outputs": []
    },
    {
      "cell_type": "markdown",
      "metadata": {
        "id": "OynFo0OwcBgd"
      },
      "source": [
        "Omega (w) is white noise, and alpha and beta are parameters of the model. Also alpha_1 + beta_1 must be less than 1 or the model is unstable. \n",
        "\n",
        "The standardized residuals can be computed by dividing the residuals by the conditional volatility. These are plotted along with the (unstandardized, but scaled) residuals. The non-standardized residuals are more peaked in the center indicating that the distribution is somewhat more heavy tailed than that of the standardized residuals."
      ]
    },
    {
      "cell_type": "code",
      "metadata": {
        "id": "UWGCXsIF4wcY"
      },
      "source": [
        "pip install arch"
      ],
      "execution_count": null,
      "outputs": []
    },
    {
      "cell_type": "code",
      "metadata": {
        "id": "2HNvBFfJkU7s"
      },
      "source": [
        "from arch import arch_model\n",
        "am = arch_model(X, p=2, q=2, o=1,power=2.0, vol='Garch', dist='StudentsT')\n",
        "res = am.fit(update_freq=5)\n",
        "print(res.summary())"
      ],
      "execution_count": null,
      "outputs": []
    },
    {
      "cell_type": "code",
      "metadata": {
        "id": "FZCTSawGgzkt"
      },
      "source": [
        "eam = arch_model(X, p=2,q=2, o=1, power=2.0, vol='EGARCH', dist='StudentsT')\n",
        "eres = eam.fit(update_freq=5)\n",
        "print(res.summary())"
      ],
      "execution_count": null,
      "outputs": []
    },
    {
      "cell_type": "code",
      "metadata": {
        "id": "LJbekHBGBsd8"
      },
      "source": [
        "# forecast the test set\n",
        "forecasts = res.forecast(horizon=5)\n",
        "print(forecasts.variance.dropna().head())"
      ],
      "execution_count": null,
      "outputs": []
    },
    {
      "cell_type": "markdown",
      "metadata": {
        "id": "x6aGuit9JdFH"
      },
      "source": [
        "The default forecast only produces 1-step ahead forecasts.\n"
      ]
    },
    {
      "cell_type": "code",
      "metadata": {
        "id": "9tPXMxbFJSTg"
      },
      "source": [
        "print(forecasts.mean.iloc[-3:]) \n",
        "print(forecasts.residual_variance.iloc[-3:]) \n",
        "print(forecasts.variance.iloc[-3:])\n"
      ],
      "execution_count": null,
      "outputs": []
    },
    {
      "cell_type": "markdown",
      "metadata": {
        "id": "r64_xSJCJqqr"
      },
      "source": [
        "Longer horizon forecasts can be computed by passing the parameter horizon.\n"
      ]
    },
    {
      "cell_type": "code",
      "metadata": {
        "id": "esIS-PJAJk7t"
      },
      "source": [
        "forecasts = res.forecast(horizon=5) \n",
        "print(forecasts.residual_variance.iloc[-3:])\n"
      ],
      "execution_count": null,
      "outputs": []
    },
    {
      "cell_type": "code",
      "metadata": {
        "id": "oBukbK3FG847"
      },
      "source": [
        "from datetime import timedelta\n",
        "import datetime as dt \n",
        "#split_date = dt.datetime(2010,1,1)\n",
        "#day = dt.timedelta(1) \n",
        "#print(forecasts.variance[split_date - 5 * day:split_date + 5 * day])\n"
      ],
      "execution_count": null,
      "outputs": []
    },
    {
      "cell_type": "code",
      "metadata": {
        "id": "jEMqgZGrlTvv"
      },
      "source": [
        "std_resid = res_normal.resid / res_normal.conditional_volatility\n",
        "unit_var_resid = res_normal.resid / res_normal.resid.std()"
      ],
      "execution_count": null,
      "outputs": []
    },
    {
      "cell_type": "code",
      "metadata": {
        "id": "Cj2H7XSVlxcc"
      },
      "source": [
        "from statsmodels.graphics.tsaplots import plot_acf, plot_pacf\n",
        "from matplotlib import pyplot\n",
        "plt.rcParams['figure.figsize'] = 10, 5\n",
        "#plt.style.use('fivethirtyeight')\n",
        "plot_acf(std_resid)\n",
        "plt.title('Standardized residuals')\n",
        "pyplot.show()"
      ],
      "execution_count": null,
      "outputs": []
    },
    {
      "cell_type": "code",
      "metadata": {
        "id": "7IeABaBknfOF"
      },
      "source": [
        "plt.rcParams['figure.figsize'] = 10, 5\n",
        "squared_resid = std_resid**2\n",
        "plot_acf(squared_resid)\n",
        "plt.title('Squared residuals')\n",
        "pyplot.show()"
      ],
      "execution_count": null,
      "outputs": []
    },
    {
      "cell_type": "code",
      "metadata": {
        "id": "DB4bb-Kj5NR1"
      },
      "source": [
        "import statsmodels.api as sm\n",
        "acf = pd.DataFrame(sm.tsa.stattools.acf(squared_resid), columns=['ACF(CrudeOil)'])\n",
        "fig = acf[1:].plot(kind='bar', title='Autocorrelations (Squared residuls)', figsize=(10, 6))"
      ],
      "execution_count": null,
      "outputs": []
    },
    {
      "cell_type": "code",
      "metadata": {
        "id": "zkKQ41Le2eUR"
      },
      "source": [
        "plt.xlim(-2, 2)\n",
        "sns.kdeplot(squared_resid, shade=True)\n",
        "sns.kdeplot(std_resid, shade=True)\n",
        "sns.kdeplot(unit_var_resid, shade=True)\n",
        "plt.legend(['Squared Residual', \"Unit variance residual\", \"Std Residual\"], loc='best')\n",
        "plt.show()"
      ],
      "execution_count": null,
      "outputs": []
    },
    {
      "cell_type": "code",
      "metadata": {
        "id": "kxFYznuxBKLf"
      },
      "source": [
        "gam = arch_model(Model.resid, p=2, o=0, q=2, dist='StudentsT')\n",
        "gres = gam.fit(update_freq=5, disp='off')\n",
        "print(gres.summary())"
      ],
      "execution_count": null,
      "outputs": []
    },
    {
      "cell_type": "markdown",
      "metadata": {
        "id": "Zw1jy86VB05j"
      },
      "source": [
        "Let’s plot the residuals again"
      ]
    },
    {
      "cell_type": "code",
      "metadata": {
        "id": "ymSyIihZBmuR"
      },
      "source": [
        "tsplot(gres.resid, lags=30)"
      ],
      "execution_count": null,
      "outputs": []
    },
    {
      "cell_type": "markdown",
      "metadata": {
        "id": "vXkLX6Y4B5ZJ"
      },
      "source": [
        "The plots looks like a realisation of a discrete white noise process, indicating a good fit. Let’s plot a square of residuals to be sure"
      ]
    },
    {
      "cell_type": "code",
      "metadata": {
        "id": "7BFrLjAXB-uV"
      },
      "source": [
        "tsplot(gres.resid**2, lags=30)"
      ],
      "execution_count": null,
      "outputs": []
    },
    {
      "cell_type": "markdown",
      "metadata": {
        "id": "KWs0LL3XCghK"
      },
      "source": [
        "We have what looks like a realisation of a discrete white noise process, indicating that we have “explained” the serial correlation present in the squared residuals with an appropriate mixture of ARIMA(p,d,q) and GARCH(p,q)."
      ]
    },
    {
      "cell_type": "code",
      "metadata": {
        "id": "i_A8oT8aZDa0"
      },
      "source": [
        "tam = arch_model(X, p=2, o=0, q=2, power=1.0, vol='Garch', dist='StudentsT')\n",
        "tres = tam.fit(update_freq=5)\n",
        "print(res.summary())"
      ],
      "execution_count": null,
      "outputs": []
    },
    {
      "cell_type": "markdown",
      "metadata": {
        "id": "kBOwQdynLnl8"
      },
      "source": [
        "### GARCH (with a Constant Mean)\n",
        "The default set of options produces a model with a constant mean, GARCH(1,1) conditional variance and normal errors."
      ]
    },
    {
      "cell_type": "code",
      "metadata": {
        "id": "Kdan0zwyYvVc"
      },
      "source": [
        "pip install arch"
      ],
      "execution_count": null,
      "outputs": []
    },
    {
      "cell_type": "code",
      "metadata": {
        "id": "5o7UI4YxPKdE"
      },
      "source": [
        "from arch import arch_model\n",
        "\n",
        "#am = arch_model(0.1*Y)\n",
        "#res = am.fit(update_freq=5)\n",
        "#print(res.summary())"
      ],
      "execution_count": null,
      "outputs": []
    },
    {
      "cell_type": "code",
      "metadata": {
        "id": "lze5JyZoQ7VI"
      },
      "source": [
        "#plt.rcParams['figure.figsize'] = 10, 5 # visualize the standardized residuals and conditional volatility.\n",
        "#fig = res.plot(annualize='D')\n"
      ],
      "execution_count": null,
      "outputs": []
    },
    {
      "cell_type": "code",
      "metadata": {
        "id": "0xDT771iTF9_"
      },
      "source": [
        "# forecast the test set\n",
        "#forecasts = res.forecast(horizon=5)\n",
        "#print(forecasts.variance.dropna().head())"
      ],
      "execution_count": null,
      "outputs": []
    },
    {
      "cell_type": "markdown",
      "metadata": {
        "id": "7iIKtIFiV2Rn"
      },
      "source": [
        "## GJR-GARCH\n",
        "\n",
        "The log likelihood improves substantially with the introduction of an asymmetric term, and the parameter estimate is highly significant."
      ]
    },
    {
      "cell_type": "code",
      "metadata": {
        "id": "pG1l70zdV6c3"
      },
      "source": [
        "gjam = arch_model(X, p=2, o=1, q=2, power=2.0, dist='StudentsT')\n",
        "gjres = gjam.fit(update_freq=5, disp='off')\n",
        "print(gjres.summary())"
      ],
      "execution_count": null,
      "outputs": []
    },
    {
      "cell_type": "code",
      "metadata": {
        "id": "RYwyNwJAYXDl"
      },
      "source": [
        "fig = gjres.plot(annualize='D')"
      ],
      "execution_count": null,
      "outputs": []
    },
    {
      "cell_type": "code",
      "metadata": {
        "id": "XvjfWyDRWYo-"
      },
      "source": [
        "# forecast the test set\n",
        "#forecasts = res2.forecast(horizon=5)\n",
        "#print(forecasts.variance.dropna().head())"
      ],
      "execution_count": null,
      "outputs": []
    },
    {
      "cell_type": "markdown",
      "metadata": {
        "id": "iA2wuB9jWpCV"
      },
      "source": [
        "## TARCH/ZARCH\n",
        "The TARCH model also improves the fit, although the change in the log likelihood is less dramatic."
      ]
    },
    {
      "cell_type": "code",
      "metadata": {
        "id": "hS3MkDD7WsdF"
      },
      "source": [
        "#tam = arch_model(0.1*Y, p=1, o=1, q=1, power=1.0)\n",
        "#tres = tam.fit(update_freq=5)\n",
        "#print(tres.summary())"
      ],
      "execution_count": null,
      "outputs": []
    },
    {
      "cell_type": "markdown",
      "metadata": {
        "id": "D9eXk-tPYdRy"
      },
      "source": [
        "Moreover, our TS is not stationary. Let's find out if the random walk model is a good fit for our simulated data. \n",
        "Recall that a random walk is x (t) = x(t-1) + w(t). \n",
        "Using algebra we can say that x(t) - x(t-1) = w(t). \n"
      ]
    },
    {
      "cell_type": "code",
      "metadata": {
        "id": "r3_bdY_lYe8F"
      },
      "source": [
        "#fig = tres.plot(annualize='D')"
      ],
      "execution_count": null,
      "outputs": []
    },
    {
      "cell_type": "markdown",
      "metadata": {
        "id": "WHmrbNVbXfwT"
      },
      "source": [
        "## Student’s T Errors\n",
        "Financial returns are often heavy tailed, and a Student’s T distribution is a simple method to capture this feature. The call to arch changes the distribution from a Normal to a Students’s T.\n",
        "\n",
        "The standardized residuals appear to be heavy tailed with an estimated degree of freedom near 10. The log-likelihood also shows a large increase."
      ]
    },
    {
      "cell_type": "code",
      "metadata": {
        "id": "cbVTIGLkXeoq"
      },
      "source": [
        "# Now we can fit the arch model using the best fit arima model parameters\n",
        "\n",
        "# Using student T distribution usually provides better fit\n",
        "\n",
        "#stam = arch_model(10*Y, p=2, o=0, q=2, power=1.0, dist='StudentsT')\n",
        "#stres = stam.fit(update_freq=5)\n",
        "#print(stres.summary())"
      ],
      "execution_count": null,
      "outputs": []
    },
    {
      "cell_type": "code",
      "metadata": {
        "id": "XBg7r9XQ6am8"
      },
      "source": [
        "def _get_best_model(TS):\n",
        "    best_aic = np.inf \n",
        "    best_order = None\n",
        "    best_mdl = None\n",
        "\n",
        "    pq_rng = range(5) # [0,1,2,3,4,8,10]\n",
        "  #  d_rng = range(2) # [0,1]\n",
        "   # for i in pq_rng:\n",
        "   #     for d in d_rng:\n",
        "    #        for j in pq_rng:\n",
        "     #           try:\n",
        "      #              tmp_mdl = smt.ARIMA(TS, order=(i,d,j)).fit(\n",
        "       #                 method='mle', trend='nc'\n",
        "        #            )\n",
        "       #             tmp_aic = tmp_mdl.aic\n",
        "      #              if tmp_aic < best_aic:\n",
        "      #                  best_aic = tmp_aic\n",
        "       #                 best_order = (i, d, j)\n",
        "       #                 best_mdl = tmp_mdl\n",
        "       #         except: continue\n",
        "   # print('aic: {:6.5f} | order: {}'.format(best_aic, best_order))                    \n",
        "   # return best_aic, best_order, best_mdl\n",
        "\n",
        "#TS = Y\n",
        "#res_tup = _get_best_model(TS)\n",
        "\n",
        "# aic: 15042.58302 | order: (3, 0, 2)"
      ],
      "execution_count": null,
      "outputs": []
    },
    {
      "cell_type": "code",
      "metadata": {
        "id": "N8BCok857K2a"
      },
      "source": [
        "# Now we can fit the arch model using the best fit arima model parameters\n",
        "\n",
        "# Using student T distribution usually provides better fit\n",
        "\n",
        "#STAM = arch_model(10*Y, p=3, o=0, q=2, power=1.0, dist='StudentsT')\n",
        "#TRES = STAM.fit(update_freq=5)\n",
        "#print(TRES.summary())"
      ],
      "execution_count": null,
      "outputs": []
    },
    {
      "cell_type": "markdown",
      "metadata": {
        "id": "Y2LJpRsEBrI_"
      },
      "source": [
        "Plotting the standardized residuals and the conditional volatility shows some large (in magnitude) errors, even when standardized."
      ]
    },
    {
      "cell_type": "code",
      "metadata": {
        "id": "f5ujKpKk73vO"
      },
      "source": [
        "#fig = TRES.plot(annualize='D')"
      ],
      "execution_count": null,
      "outputs": []
    },
    {
      "cell_type": "markdown",
      "metadata": {
        "id": "bQFCqUEn58_I"
      },
      "source": [
        "The plots looks like a realisation of a discrete white noise process, indicating a good fit. Let’s plot a square of residuals to be sure"
      ]
    },
    {
      "cell_type": "code",
      "metadata": {
        "id": "fg-kgdI49a9r"
      },
      "source": [
        ""
      ],
      "execution_count": null,
      "outputs": []
    },
    {
      "cell_type": "code",
      "metadata": {
        "id": "jx6Z_2k15kmm"
      },
      "source": [
        "# Plot residual errors\n",
        "#residuals = pd.DataFrame(TRES.resid)\n",
        "#fig, ax = plt.subplots(1,2)\n",
        "#residuals.plot(title=\"Residuals\", ax=ax[0])\n",
        "#residuals.plot(kind='kde', title='Density', ax=ax[1])\n",
        "#plt.show()"
      ],
      "execution_count": null,
      "outputs": []
    },
    {
      "cell_type": "markdown",
      "metadata": {
        "id": "bQN7_kJ153bc"
      },
      "source": [
        "The plots looks like a realisation of a discrete white noise process, indicating a good fit. Let’s plot a square of residuals to be sure"
      ]
    },
    {
      "cell_type": "code",
      "metadata": {
        "id": "7uxQuB9X9ZZ1"
      },
      "source": [
        ""
      ],
      "execution_count": null,
      "outputs": []
    },
    {
      "cell_type": "code",
      "metadata": {
        "id": "DvasjYv46JAr"
      },
      "source": [
        "#plt.figure(figsize=(10,6))\n",
        "#plt.style.use('fivethirtyeight')\n",
        "#plot_acf(residuals**2, lags=30)\n",
        "#plt.title('Squared residuals')\n",
        "#pyplot.show()"
      ],
      "execution_count": null,
      "outputs": []
    },
    {
      "cell_type": "markdown",
      "metadata": {
        "id": "a3ucSeQ887na"
      },
      "source": [
        "We have what looks like a realisation of a discrete white noise process, indicating that we have “explained” the serial correlation present in the squared residuals with an appropriate mixture of ARIMA(p,d,q) and GARCH(p,q)."
      ]
    },
    {
      "cell_type": "markdown",
      "metadata": {
        "id": "LBQdEdtCYP5i"
      },
      "source": [
        "## Fixing Parameters\n",
        "In some circumstances, fixed rather than estimated parameters might be of interest. A model-result-like class can be generated using the fix() method. The class returned is identical to the usual model result class except that information about inference (standard errors, t-stats, etc) is not available.\n",
        "\n",
        "In the example, I fix the parameters to a symmetric version of the previously estimated model."
      ]
    },
    {
      "cell_type": "code",
      "metadata": {
        "id": "Y94Gc9Q0YO6f"
      },
      "source": [
        "#fixed_res = am.fix([0.0235, 0.01, 0.06, 0.0])\n",
        "#print(fixed_res.summary())"
      ],
      "execution_count": null,
      "outputs": []
    },
    {
      "cell_type": "markdown",
      "metadata": {
        "id": "jRyUKPF3anaD"
      },
      "source": [
        "Three models are fit using alternative distributional assumptions. The results are printed, where we can see that the normal has a much lower log-likelihood than either the Standard Student’s T or the Standardized Skew Student’s T – however, these two are fairly close. The closeness of the T and the Skew T indicate that returns are not heavily skewed."
      ]
    },
    {
      "cell_type": "markdown",
      "metadata": {
        "id": "oJpFxMRocP17"
      },
      "source": [
        "The standardized residuals can be computed by dividing the residuals by the conditional volatility. These are plotted along with the (unstandardized, but scaled) residuals. The non-standardized residuals are more peaked in the center indicating that the distribution is somewhat more heavy tailed than that of the standardized residuals."
      ]
    },
    {
      "cell_type": "code",
      "metadata": {
        "id": "sFHSerzEcTmc"
      },
      "source": [
        "#std_resid = res_normal.resid / res_normal.conditional_volatility\n",
        "#unit_var_resid = res_normal.resid / res_normal.resid.std()\n"
      ],
      "execution_count": null,
      "outputs": []
    },
    {
      "cell_type": "code",
      "metadata": {
        "id": "Baxl5aE0ZXmx"
      },
      "source": [
        "#from matplotlib import pyplot\n",
        "#plot_acf(std_resid, lags=30)\n",
        "#plt.title('Squared residuals')\n",
        "#pyplot.show()"
      ],
      "execution_count": null,
      "outputs": []
    },
    {
      "cell_type": "code",
      "metadata": {
        "id": "UjOv1aRBZsmG"
      },
      "source": [
        "#squared_resid = std_resid**2"
      ],
      "execution_count": null,
      "outputs": []
    },
    {
      "cell_type": "code",
      "metadata": {
        "id": "QC-uCyOWZ8MD"
      },
      "source": [
        "#plot_acf(squared_resid, lags=30)\n",
        "#plt.title('Squared residuals')\n",
        "#pyplot.show()"
      ],
      "execution_count": null,
      "outputs": []
    },
    {
      "cell_type": "code",
      "metadata": {
        "id": "06ZRylgmW7q4"
      },
      "source": [
        "import pandas as pd\n",
        "import pandas_datareader.data as web\n",
        "import numpy as np\n",
        "\n",
        "import statsmodels.formula.api as smf\n",
        "import statsmodels.tsa.api as smt\n",
        "import statsmodels.api as sm\n",
        "import scipy.stats as scs\n",
        "from arch import arch_model\n",
        "\n",
        "import matplotlib.pyplot as plt\n",
        "import matplotlib as mpl\n",
        "%matplotlib inline\n"
      ],
      "execution_count": null,
      "outputs": []
    },
    {
      "cell_type": "code",
      "metadata": {
        "id": "9zHvchct4xmZ"
      },
      "source": [
        "from matplotlib import pyplot\n",
        "from statsmodels.tsa.ar_model import AR\n",
        "from sklearn.metrics import mean_squared_error\n",
        "# train autoregression\n",
        "#model = AR(X1)\n",
        "#model_fit = model.fit()\n",
        "#print('Lag: %s' % model_fit.k_ar)\n",
        "#print('Coefficients: %s' % model_fit.params)"
      ],
      "execution_count": null,
      "outputs": []
    },
    {
      "cell_type": "markdown",
      "metadata": {
        "id": "34ACOd5yUTk4"
      },
      "source": [
        "We can see that a 30-lag model was chosen and trained. This is interesting given how close this lag is to the average number of days in a month."
      ]
    },
    {
      "cell_type": "code",
      "metadata": {
        "id": "Og0qMAUjFWRG"
      },
      "source": [
        "#forecast = res4.forecast()\n",
        "#print(forecast.variance.tail())"
      ],
      "execution_count": null,
      "outputs": []
    },
    {
      "cell_type": "code",
      "metadata": {
        "id": "EcKLb8uLGRs3"
      },
      "source": [
        "forecasts = tres.forecast(horizon=5, method='simulation')\n",
        "sims = forecasts.simulations\n",
        "\n",
        "x = np.arange(1, 6)\n",
        "lines = plt.plot(x, sims.residual_variances[-1, ::5].T, color='#9cb2d6', alpha=0.5)\n",
        "lines[0].set_label('Simulated path')\n",
        "line = plt.plot(x, forecasts.variance.iloc[-1].values, color='#002868')\n",
        "line[0].set_label('Expected variance')\n",
        "plt.gca().set_xticks(x)\n",
        "plt.gca().set_xlim(1,5)\n",
        "legend = plt.legend()"
      ],
      "execution_count": null,
      "outputs": []
    },
    {
      "cell_type": "code",
      "metadata": {
        "id": "mejoF3XVKcVG"
      },
      "source": [
        "import seaborn as sns \n",
        "sns.boxplot(data=sims.variances[-1])"
      ],
      "execution_count": null,
      "outputs": []
    },
    {
      "cell_type": "markdown",
      "metadata": {
        "id": "-oE572veHIQr"
      },
      "source": [
        "## Bootstrap Forecasts\n",
        "Bootstrap-based forecasts are nearly identical to simulation-based forecasts except that the values used to simulate the process are computed from historical data rather than using the assumed distribution of the residuals. Forecasts produced using this method also return an ARCHModelForecastSimulation containing information about the simulated paths."
      ]
    },
    {
      "cell_type": "code",
      "metadata": {
        "id": "55RXFtKiG-7N"
      },
      "source": [
        "forecasts = tres.forecast(horizon=5, method='bootstrap')\n",
        "sims = forecasts.simulations\n",
        "\n",
        "lines = plt.plot(x, sims.residual_variances[-1, :, :].T, color='#9cb2d6', alpha=0.5)\n",
        "lines[0].set_label('Simulated path')\n",
        "line = plt.plot(x, forecasts.variance.iloc[-1].values, color='#002868')\n",
        "line[0].set_label('Expected variance')\n",
        "plt.gca().set_xticks(x)\n",
        "plt.gca().set_xlim(1,5)\n",
        "legend = plt.legend()"
      ],
      "execution_count": null,
      "outputs": []
    },
    {
      "cell_type": "code",
      "metadata": {
        "id": "JKUuy3CnqMuW"
      },
      "source": [
        "print(np.percentile(sims.values[-1,:,-1].T,5))\n",
        "plt.hist(sims.values[-1, :,-1],bins=50)\n",
        "plt.title('Distribution of Returns')\n",
        "plt.show()"
      ],
      "execution_count": null,
      "outputs": []
    },
    {
      "cell_type": "code",
      "metadata": {
        "id": "lKQaxO7V87O2"
      },
      "source": [
        "am = arch_model(X,mean='HAR',lags=[1,5,22],vol='Constant') \n",
        "sim_data = am.simulate([0.1,0.4,0.3,0.2,1.0], 250)\n",
        "sim_data.index = pd.date_range('2019-01-01',periods=250) \n",
        "am = arch_model(sim_data['data'],mean='HAR',lags=[1,5,22], vol='Constant') \n",
        "res = am.fit()\n",
        "fig = res.hedgehog_plot(type='mean')\n"
      ],
      "execution_count": null,
      "outputs": []
    },
    {
      "cell_type": "code",
      "metadata": {
        "id": "-gsBpiWM0zj2"
      },
      "source": [
        "pip install pyflux\n"
      ],
      "execution_count": null,
      "outputs": []
    },
    {
      "cell_type": "code",
      "metadata": {
        "id": "PFDcP-akxtmC"
      },
      "source": [
        "from math import sqrt\n",
        "from sklearn.metrics import r2_score\n",
        "from sklearn.metrics import mean_squared_error\n",
        "vol = df.returns.std()*sqrt(252)\n",
        "print (\"Annual Volatility =\",str(round(vol,4)*100)+\"%\")"
      ],
      "execution_count": null,
      "outputs": []
    },
    {
      "cell_type": "markdown",
      "metadata": {
        "id": "7HbO2w04qavY"
      },
      "source": [
        "Let's first use monte carlo simulation for forecasting"
      ]
    },
    {
      "cell_type": "code",
      "metadata": {
        "id": "Z03LyzG8qcW8"
      },
      "source": [
        "from scipy.stats import norm\n",
        "\n",
        "u = df.returns.mean() #Mean of the logarithmich return\n",
        "var = df.returns.var() #Variance of the logarithic return\n",
        "drift = u - (0.5 * var) #drift / trend of the logarithmic return\n",
        "stdev = df.returns.std() #Standard deviation of the log return\n",
        "\n",
        "\n",
        "t_intervals = 252 #I just wanted to forecast 250 time points\n",
        "iterations = 10 #I wanted to have 10 different forecast\n",
        "\n",
        "daily_returns = np.random.normal((1+mu)**(1/T),vol/sqrt(T),T)\n",
        "#daily_returns actually is some kind of a noise. When we multiply this with the t time price, we can obtain t+1 time price"
      ],
      "execution_count": null,
      "outputs": []
    },
    {
      "cell_type": "markdown",
      "metadata": {
        "id": "DlrhY2WOq3GM"
      },
      "source": [
        "Let's create a variable S0 (inital stock price) equals to the last closing price ."
      ]
    },
    {
      "cell_type": "code",
      "metadata": {
        "id": "kzx57qm-q2Y6"
      },
      "source": [
        "S0 = df.Price.iloc[-1]\n",
        "S0"
      ],
      "execution_count": null,
      "outputs": []
    },
    {
      "cell_type": "code",
      "metadata": {
        "id": "vH_rrcFlrEWa"
      },
      "source": [
        "#Let us first create en empty matrix such as daily returns\n",
        "price_list = np.zeros_like(daily_returns)\n",
        "price_list[0] = S0\n",
        "price_list"
      ],
      "execution_count": null,
      "outputs": []
    },
    {
      "cell_type": "code",
      "metadata": {
        "id": "Ydps_iYcrOyy"
      },
      "source": [
        "# With a simple for loop, we are going to forecast the next 250 days\n",
        "for t in range(1, t_intervals):\n",
        "    price_list[t] = price_list[t - 1] * daily_returns[t]\n",
        "price_list = pd.DataFrame(price_list)\n",
        "price_list['Price'] = price_list[0]\n",
        "price_list.head()"
      ],
      "execution_count": null,
      "outputs": []
    },
    {
      "cell_type": "code",
      "metadata": {
        "id": "x2TnqyF4rY5_"
      },
      "source": [
        "Price = df.Price\n",
        "Price = pd.DataFrame(Price)\n",
        "frames = [Price, price_list]\n",
        "monte_carlo_forecast = pd.concat(frames, sort=True)"
      ],
      "execution_count": null,
      "outputs": []
    },
    {
      "cell_type": "code",
      "metadata": {
        "id": "-rtEQ91vr9dT"
      },
      "source": [
        "monte_carlo_forecast.head()"
      ],
      "execution_count": null,
      "outputs": []
    },
    {
      "cell_type": "code",
      "metadata": {
        "id": "GxUYnr-6r9Aj"
      },
      "source": [
        "monte_carlo_forecast.tail()"
      ],
      "execution_count": null,
      "outputs": []
    },
    {
      "cell_type": "code",
      "metadata": {
        "id": "FoRIYe-btONb"
      },
      "source": [
        "monte_carlo = monte_carlo_forecast.iloc[:,:].values\n",
        "import matplotlib.pyplot as plt\n",
        "plt.figure(figsize=(10,6))\n",
        "plt.plot(monte_carlo)\n",
        "plt.show()"
      ],
      "execution_count": null,
      "outputs": []
    },
    {
      "cell_type": "code",
      "metadata": {
        "id": "ujvOaGQm0nKt"
      },
      "source": [
        "import sklearn.metrics, math\n",
        "S =df.Price #starting stock price (i.e. last available real stock price)\n",
        "T = 252 #Number of trading days\n",
        "mu = 0.0622 #Return\n",
        "vol =0.3737 #Volatility\n",
        "\n",
        "#create list of daily returns using random normal distribution\n",
        "daily_returns=np.random.normal((mu/T),vol/math.sqrt(T),T)+1\n",
        "\n",
        "#set starting price and create price series generated by above random daily returns\n",
        "price_list = [S]\n",
        "for x in daily_returns:\n",
        "    price_list.append(price_list[-1]*x)\n",
        "    \n",
        "#Generate Plots - price series and histogram of daily returns\n",
        "plt.figure(figsize=(10,6))\n",
        "plt.plot(price_list)\n",
        "plt.show()\n",
        "plt.hist(daily_returns-1, 100) #Note that we run the line plot and histogram separately, not simultaneously.\n",
        "plt.show()"
      ],
      "execution_count": null,
      "outputs": []
    },
    {
      "cell_type": "markdown",
      "metadata": {
        "id": "YtgGORyaz9EI"
      },
      "source": [
        "The above code basically ran a single simulation of potential price series evolution over a trading year (252 days), based upon a draw of random daily returns that follow a normal distribution. This is represented by the single line series shown in the first chart. The second chart plots a histogram of those random daily returns over the year period."
      ]
    },
    {
      "cell_type": "code",
      "metadata": {
        "id": "TdkB8RxbzJ8x"
      },
      "source": [
        "#Define Variables\n",
        "S = df.Price #starting stock price (i.e. last available real stock price)\n",
        "T = 252 #Number of trading days\n",
        "mu = 0.0622 #Return\n",
        "vol =0.3737 #Volatility\n",
        "\n",
        "#choose number of runs to simulate - I have chosen 1000\n",
        "for i in range(1000):\n",
        "    #create list of daily returns using random normal distribution\n",
        "    daily_returns=np.random.normal(mu/T,vol/math.sqrt(T),T)+1\n",
        "    \n",
        "    #set starting price and create price series generated by above random daily returns\n",
        "    price_list = [S]\n",
        "    \n",
        "    for x in daily_returns:\n",
        "        price_list.append(price_list[-1]*x)\n",
        "\n",
        "    #plot data from each individual run which we will plot at the end\n",
        "    plt.plot(price_list)\n",
        "\n",
        "#show the plot of multiple price series created above\n",
        "plt.show()"
      ],
      "execution_count": null,
      "outputs": []
    },
    {
      "cell_type": "code",
      "metadata": {
        "id": "frnjhexmu0n7"
      },
      "source": [
        "plt.plot(price_list)\n",
        "plt.show()"
      ],
      "execution_count": null,
      "outputs": []
    },
    {
      "cell_type": "code",
      "metadata": {
        "id": "-aE8aLda5CJQ"
      },
      "source": [
        "price_list  # checking the values"
      ],
      "execution_count": null,
      "outputs": []
    },
    {
      "cell_type": "markdown",
      "metadata": {
        "id": "2_hWYjKm5Gsh"
      },
      "source": [
        "The results are slightly different due to the fact that these are simulations of random daily return draws. The more paths or “runs” we include in each simulation, the more the mean value will tend towards the mean return we used as our “mu” input. This is as a result of the law of large numbers. Below, taking a look at a couple of “quantiles” of the potential price distribution, to get an idea of the likelihood of very high or very low returns."
      ]
    },
    {
      "cell_type": "code",
      "metadata": {
        "id": "8PK-I0yo5KxC"
      },
      "source": [
        "print(\"Mean value = \", round(np.mean(monte_carlo_forecast).fillna(0),2))\n",
        "print(\"5% quantile =\", np.percentile(monte_carlo_forecast.fillna(0),5))\n",
        "print(\"95% quantile =\", np.percentile(monte_carlo_forecast.fillna(0),95))"
      ],
      "execution_count": null,
      "outputs": []
    },
    {
      "cell_type": "markdown",
      "metadata": {
        "id": "ch-5BVmH8lJX"
      },
      "source": [
        "Now, let’s explore their mean and variance, as we will need them for the calculation of the Brownian motion.\n",
        "We need to know how to calculate mean and variance.\n",
        "After a few lines of code, we obtain these numbers."
      ]
    },
    {
      "cell_type": "code",
      "metadata": {
        "id": "HtRO-LfF8pk3"
      },
      "source": [
        "u = df.returns.mean()\n",
        "u"
      ],
      "execution_count": null,
      "outputs": []
    },
    {
      "cell_type": "code",
      "metadata": {
        "id": "fBTTsyuc8w9F"
      },
      "source": [
        "var = df.returns.var()\n",
        "var"
      ],
      "execution_count": null,
      "outputs": []
    },
    {
      "cell_type": "markdown",
      "metadata": {
        "id": "OYDTFVIj84Lo"
      },
      "source": [
        "First, I’ll compute the drift component. It is the best approximation of future rates of return of the stock. The formula to use here will be “U”, which equals the average log return, minus half its variance."
      ]
    },
    {
      "cell_type": "code",
      "metadata": {
        "id": "W2ic20aj88Yv"
      },
      "source": [
        "drift = u - (0.5 * var)\n",
        "drift"
      ],
      "execution_count": null,
      "outputs": []
    },
    {
      "cell_type": "code",
      "metadata": {
        "id": "E31NvQJb-jMD"
      },
      "source": [
        "np.array(drift)"
      ],
      "execution_count": null,
      "outputs": []
    },
    {
      "cell_type": "code",
      "metadata": {
        "id": "kqopmYB_-wEf"
      },
      "source": [
        "type(drift)"
      ],
      "execution_count": null,
      "outputs": []
    },
    {
      "cell_type": "code",
      "metadata": {
        "id": "dNZqiilV-nh_"
      },
      "source": [
        "drift.values"
      ],
      "execution_count": null,
      "outputs": []
    },
    {
      "cell_type": "markdown",
      "metadata": {
        "id": "QQV3k49V9HJD"
      },
      "source": [
        "All right! We obtained a tiny number, and that need not scare you, because we’ll do this entire exercise without annualizing our indicators. Why? Because we will try to predict P&G’s daily stock price. Good!\n",
        "\n",
        "Next, we will create a variable, called “stdev”, and we will assign to it the standard deviation of log returns. We said the Brownian motion comprises the sum of the drift and a variance adjusted by “E” to the power of “R”, so we will use this block in the second part of the expression."
      ]
    },
    {
      "cell_type": "code",
      "metadata": {
        "id": "krA11IL19LGu"
      },
      "source": [
        "stdev = df.returns.std()\n",
        "stdev"
      ],
      "execution_count": null,
      "outputs": []
    },
    {
      "cell_type": "markdown",
      "metadata": {
        "id": "ycc72xpA9vGv"
      },
      "source": [
        "The second component of the Brownian motion is a random variable, z, a number corresponding to the distance between the mean and the events, expressed as the number of standard deviations."
      ]
    },
    {
      "cell_type": "code",
      "metadata": {
        "id": "AWxNiE9g9wKb"
      },
      "source": [
        "norm.ppf(0.95)"
      ],
      "execution_count": null,
      "outputs": []
    },
    {
      "cell_type": "code",
      "metadata": {
        "id": "C8kTMInv-EAY"
      },
      "source": [
        "daily_returns = np.exp(drift.values + stdev.values * norm.ppf(np.random.rand(t_intervals, iterations)))"
      ],
      "execution_count": null,
      "outputs": []
    },
    {
      "cell_type": "markdown",
      "metadata": {
        "id": "FhHU4atvcS6d"
      },
      "source": [
        "A major weakness of GARCH models is that they assume symmetric impacts of positive andnegative shocksat−i onthe volatility σ2 t . On the other hand, empirical evidence showsthatlargepositiveandnegativeshocks haveratherdifferenteffectsonassetreturns. To overcome this weakness, exponential GARCH model is experimented\n"
      ]
    },
    {
      "cell_type": "code",
      "metadata": {
        "id": "j4tTACb8c4zM"
      },
      "source": [
        "from arch.univariate import EGARCH\n",
        "am = arch_model(X, p=5, o=0, q=2, power=2.0, vol='EGarch', dist='StudentsT')\n",
        "res = am.fit(update_freq=5)\n",
        "print(res.summary())"
      ],
      "execution_count": null,
      "outputs": []
    }
  ]
}